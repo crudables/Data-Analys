{
  "nbformat": 4,
  "nbformat_minor": 0,
  "metadata": {
    "colab": {
      "name": "Untitled4.ipynb",
      "provenance": [],
      "collapsed_sections": [],
      "authorship_tag": "ABX9TyMJR6XXXBIvrgostL2/qHzi",
      "include_colab_link": true
    },
    "kernelspec": {
      "name": "python3",
      "display_name": "Python 3"
    },
    "language_info": {
      "name": "python"
    }
  },
  "cells": [
    {
      "cell_type": "markdown",
      "metadata": {
        "id": "view-in-github",
        "colab_type": "text"
      },
      "source": [
        "<a href=\"https://colab.research.google.com/github/crudables/Data-Analys/blob/main/Untitled4.ipynb\" target=\"_parent\"><img src=\"https://colab.research.google.com/assets/colab-badge.svg\" alt=\"Open In Colab\"/></a>"
      ]
    },
    {
      "cell_type": "code",
      "execution_count": null,
      "metadata": {
        "id": "K-N4qVaOzfj3"
      },
      "outputs": [],
      "source": [
        "import pandas as pd\n",
        "df_18 = pd.read_csv('https://raw.githubusercontent.com/crudables/Data-Analys/main/all_alpha_18.csv')\n",
        "df_08 = pd.read_csv('https://raw.githubusercontent.com/crudables/Data-Analys/main/all_alpha_08.csv')\n",
        "df_18.head()"
      ]
    },
    {
      "cell_type": "code",
      "source": [
        "df_18.shape"
      ],
      "metadata": {
        "colab": {
          "base_uri": "https://localhost:8080/"
        },
        "id": "4EmP56THzmo-",
        "outputId": "79637139-3e0f-4d62-dde0-f17dec61e0d3"
      },
      "execution_count": 2,
      "outputs": [
        {
          "output_type": "execute_result",
          "data": {
            "text/plain": [
              "(1611, 18)"
            ]
          },
          "metadata": {},
          "execution_count": 2
        }
      ]
    },
    {
      "cell_type": "code",
      "source": [
        "df_08.shape"
      ],
      "metadata": {
        "colab": {
          "base_uri": "https://localhost:8080/"
        },
        "id": "J3rwBLCE6fDf",
        "outputId": "b36bebc4-014e-4974-81d8-d67699aba9e7"
      },
      "execution_count": 3,
      "outputs": [
        {
          "output_type": "execute_result",
          "data": {
            "text/plain": [
              "(2404, 18)"
            ]
          },
          "metadata": {},
          "execution_count": 3
        }
      ]
    },
    {
      "cell_type": "code",
      "source": [
        ""
      ],
      "metadata": {
        "id": "noZ9Nd9V6i0k"
      },
      "execution_count": null,
      "outputs": []
    }
  ]
}