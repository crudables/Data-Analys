{
 "cells": [
  {
   "cell_type": "code",
   "execution_count": null,
   "id": "d491d92c",
   "metadata": {},
   "outputs": [],
   "source": [
    "import pandas as pd\n",
    "df_white = pd.read_csv('winequality-white.csv',sep=';')\n",
    "df_white.head()"
   ]
  },
  {
   "cell_type": "code",
   "execution_count": null,
   "id": "471e8a15",
   "metadata": {},
   "outputs": [],
   "source": [
    "df_red = pd.read_csv('winequality-red.csv',sep=';')\n",
    "df_red.head()"
   ]
  },
  {
   "cell_type": "code",
   "execution_count": 22,
   "id": "ed06db1b",
   "metadata": {},
   "outputs": [
    {
     "data": {
      "text/plain": [
       "(240, 12)"
      ]
     },
     "execution_count": 22,
     "metadata": {},
     "output_type": "execute_result"
    }
   ],
   "source": [
    "df_red[df_red.duplicated()].shape"
   ]
  },
  {
   "cell_type": "code",
   "execution_count": 23,
   "id": "85a688a9",
   "metadata": {},
   "outputs": [
    {
     "data": {
      "text/plain": [
       "(937, 12)"
      ]
     },
     "execution_count": 23,
     "metadata": {},
     "output_type": "execute_result"
    }
   ],
   "source": [
    "df_white[df_white.duplicated()].shape"
   ]
  },
  {
   "cell_type": "code",
   "execution_count": 25,
   "id": "fd7bfce2",
   "metadata": {},
   "outputs": [
    {
     "data": {
      "text/plain": [
       "fixed acidity            96\n",
       "volatile acidity        143\n",
       "citric acid              80\n",
       "residual sugar           91\n",
       "chlorides               153\n",
       "free sulfur dioxide      60\n",
       "total sulfur dioxide    144\n",
       "density                 436\n",
       "pH                       89\n",
       "sulphates                96\n",
       "alcohol                  65\n",
       "quality                   6\n",
       "dtype: int64"
      ]
     },
     "execution_count": 25,
     "metadata": {},
     "output_type": "execute_result"
    }
   ],
   "source": [
    "df_red.nunique()"
   ]
  },
  {
   "cell_type": "code",
   "execution_count": 26,
   "id": "72e6e38b",
   "metadata": {},
   "outputs": [
    {
     "data": {
      "text/plain": [
       "fixed acidity            68\n",
       "volatile acidity        125\n",
       "citric acid              87\n",
       "residual sugar          310\n",
       "chlorides               160\n",
       "free sulfur dioxide     132\n",
       "total sulfur dioxide    251\n",
       "density                 890\n",
       "pH                      103\n",
       "sulphates                79\n",
       "alcohol                 103\n",
       "quality                   7\n",
       "dtype: int64"
      ]
     },
     "execution_count": 26,
     "metadata": {},
     "output_type": "execute_result"
    }
   ],
   "source": [
    "df_white.nunique()"
   ]
  },
  {
   "cell_type": "code",
   "execution_count": null,
   "id": "332560c4",
   "metadata": {},
   "outputs": [],
   "source": [
    "df_white['density'].mean()"
   ]
  },
  {
   "cell_type": "code",
   "execution_count": null,
   "id": "83741932",
   "metadata": {},
   "outputs": [],
   "source": [
    "df_red['density'].mean()"
   ]
  },
  {
   "cell_type": "code",
   "execution_count": null,
   "id": "541cee3b",
   "metadata": {},
   "outputs": [],
   "source": [
    "df_r"
   ]
  }
 ],
 "metadata": {
  "kernelspec": {
   "display_name": "first_env",
   "language": "python",
   "name": "first_env"
  },
  "language_info": {
   "codemirror_mode": {
    "name": "ipython",
    "version": 3
   },
   "file_extension": ".py",
   "mimetype": "text/x-python",
   "name": "python",
   "nbconvert_exporter": "python",
   "pygments_lexer": "ipython3",
   "version": "3.9.7"
  }
 },
 "nbformat": 4,
 "nbformat_minor": 5
}
