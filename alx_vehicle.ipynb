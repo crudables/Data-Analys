{
  "nbformat": 4,
  "nbformat_minor": 0,
  "metadata": {
    "colab": {
      "name": "Untitled4.ipynb",
      "provenance": [],
      "collapsed_sections": [],
      "authorship_tag": "ABX9TyM7rqjk4NGXmyfdl+/fhs/E",
      "include_colab_link": true
    },
    "kernelspec": {
      "name": "python3",
      "display_name": "Python 3"
    },
    "language_info": {
      "name": "python"
    }
  },
  "cells": [
    {
      "cell_type": "markdown",
      "metadata": {
        "id": "view-in-github",
        "colab_type": "text"
      },
      "source": [
        "<a href=\"https://colab.research.google.com/github/crudables/Data-Analys/blob/main/alx_vehicle.ipynb\" target=\"_parent\"><img src=\"https://colab.research.google.com/assets/colab-badge.svg\" alt=\"Open In Colab\"/></a>"
      ]
    },
    {
      "cell_type": "code",
      "execution_count": null,
      "metadata": {
        "id": "K-N4qVaOzfj3"
      },
      "outputs": [],
      "source": [
        "import pandas as pd\n",
        "df_18 = pd.read_csv('https://raw.githubusercontent.com/crudables/Data-Analys/main/all_alpha_18.csv')\n",
        "df_08 = pd.read_csv('https://raw.githubusercontent.com/crudables/Data-Analys/main/all_alpha_08.csv')\n",
        "df_18.head()"
      ]
    },
    {
      "cell_type": "code",
      "source": [
        "df_18.shape"
      ],
      "metadata": {
        "colab": {
          "base_uri": "https://localhost:8080/"
        },
        "id": "4EmP56THzmo-",
        "outputId": "79637139-3e0f-4d62-dde0-f17dec61e0d3"
      },
      "execution_count": null,
      "outputs": [
        {
          "output_type": "execute_result",
          "data": {
            "text/plain": [
              "(1611, 18)"
            ]
          },
          "metadata": {},
          "execution_count": 2
        }
      ]
    },
    {
      "cell_type": "code",
      "source": [
        "df_08.shape"
      ],
      "metadata": {
        "colab": {
          "base_uri": "https://localhost:8080/"
        },
        "id": "J3rwBLCE6fDf",
        "outputId": "b36bebc4-014e-4974-81d8-d67699aba9e7"
      },
      "execution_count": null,
      "outputs": [
        {
          "output_type": "execute_result",
          "data": {
            "text/plain": [
              "(2404, 18)"
            ]
          },
          "metadata": {},
          "execution_count": 3
        }
      ]
    },
    {
      "cell_type": "code",
      "source": [
        "df_08[df_08.duplicated()]"
      ],
      "metadata": {
        "id": "noZ9Nd9V6i0k"
      },
      "execution_count": null,
      "outputs": []
    },
    {
      "cell_type": "code",
      "source": [
        "df_18[df_18.duplicated()]"
      ],
      "metadata": {
        "colab": {
          "base_uri": "https://localhost:8080/",
          "height": 128
        },
        "id": "tqo6kccB8pSb",
        "outputId": "dfd6c367-0b6f-46bc-feaf-f4ecf2bb4012"
      },
      "execution_count": null,
      "outputs": [
        {
          "output_type": "execute_result",
          "data": {
            "text/plain": [
              "Empty DataFrame\n",
              "Columns: [Model, Displ, Cyl, Trans, Drive, Fuel, Cert Region, Stnd, Stnd Description, Underhood ID, Veh Class, Air Pollution Score, City MPG, Hwy MPG, Cmb MPG, Greenhouse Gas Score, SmartWay, Comb CO2]\n",
              "Index: []"
            ],
            "text/html": [
              "\n",
              "  <div id=\"df-93610703-28de-45ca-bcd1-810e3fe4a027\">\n",
              "    <div class=\"colab-df-container\">\n",
              "      <div>\n",
              "<style scoped>\n",
              "    .dataframe tbody tr th:only-of-type {\n",
              "        vertical-align: middle;\n",
              "    }\n",
              "\n",
              "    .dataframe tbody tr th {\n",
              "        vertical-align: top;\n",
              "    }\n",
              "\n",
              "    .dataframe thead th {\n",
              "        text-align: right;\n",
              "    }\n",
              "</style>\n",
              "<table border=\"1\" class=\"dataframe\">\n",
              "  <thead>\n",
              "    <tr style=\"text-align: right;\">\n",
              "      <th></th>\n",
              "      <th>Model</th>\n",
              "      <th>Displ</th>\n",
              "      <th>Cyl</th>\n",
              "      <th>Trans</th>\n",
              "      <th>Drive</th>\n",
              "      <th>Fuel</th>\n",
              "      <th>Cert Region</th>\n",
              "      <th>Stnd</th>\n",
              "      <th>Stnd Description</th>\n",
              "      <th>Underhood ID</th>\n",
              "      <th>Veh Class</th>\n",
              "      <th>Air Pollution Score</th>\n",
              "      <th>City MPG</th>\n",
              "      <th>Hwy MPG</th>\n",
              "      <th>Cmb MPG</th>\n",
              "      <th>Greenhouse Gas Score</th>\n",
              "      <th>SmartWay</th>\n",
              "      <th>Comb CO2</th>\n",
              "    </tr>\n",
              "  </thead>\n",
              "  <tbody>\n",
              "  </tbody>\n",
              "</table>\n",
              "</div>\n",
              "      <button class=\"colab-df-convert\" onclick=\"convertToInteractive('df-93610703-28de-45ca-bcd1-810e3fe4a027')\"\n",
              "              title=\"Convert this dataframe to an interactive table.\"\n",
              "              style=\"display:none;\">\n",
              "        \n",
              "  <svg xmlns=\"http://www.w3.org/2000/svg\" height=\"24px\"viewBox=\"0 0 24 24\"\n",
              "       width=\"24px\">\n",
              "    <path d=\"M0 0h24v24H0V0z\" fill=\"none\"/>\n",
              "    <path d=\"M18.56 5.44l.94 2.06.94-2.06 2.06-.94-2.06-.94-.94-2.06-.94 2.06-2.06.94zm-11 1L8.5 8.5l.94-2.06 2.06-.94-2.06-.94L8.5 2.5l-.94 2.06-2.06.94zm10 10l.94 2.06.94-2.06 2.06-.94-2.06-.94-.94-2.06-.94 2.06-2.06.94z\"/><path d=\"M17.41 7.96l-1.37-1.37c-.4-.4-.92-.59-1.43-.59-.52 0-1.04.2-1.43.59L10.3 9.45l-7.72 7.72c-.78.78-.78 2.05 0 2.83L4 21.41c.39.39.9.59 1.41.59.51 0 1.02-.2 1.41-.59l7.78-7.78 2.81-2.81c.8-.78.8-2.07 0-2.86zM5.41 20L4 18.59l7.72-7.72 1.47 1.35L5.41 20z\"/>\n",
              "  </svg>\n",
              "      </button>\n",
              "      \n",
              "  <style>\n",
              "    .colab-df-container {\n",
              "      display:flex;\n",
              "      flex-wrap:wrap;\n",
              "      gap: 12px;\n",
              "    }\n",
              "\n",
              "    .colab-df-convert {\n",
              "      background-color: #E8F0FE;\n",
              "      border: none;\n",
              "      border-radius: 50%;\n",
              "      cursor: pointer;\n",
              "      display: none;\n",
              "      fill: #1967D2;\n",
              "      height: 32px;\n",
              "      padding: 0 0 0 0;\n",
              "      width: 32px;\n",
              "    }\n",
              "\n",
              "    .colab-df-convert:hover {\n",
              "      background-color: #E2EBFA;\n",
              "      box-shadow: 0px 1px 2px rgba(60, 64, 67, 0.3), 0px 1px 3px 1px rgba(60, 64, 67, 0.15);\n",
              "      fill: #174EA6;\n",
              "    }\n",
              "\n",
              "    [theme=dark] .colab-df-convert {\n",
              "      background-color: #3B4455;\n",
              "      fill: #D2E3FC;\n",
              "    }\n",
              "\n",
              "    [theme=dark] .colab-df-convert:hover {\n",
              "      background-color: #434B5C;\n",
              "      box-shadow: 0px 1px 3px 1px rgba(0, 0, 0, 0.15);\n",
              "      filter: drop-shadow(0px 1px 2px rgba(0, 0, 0, 0.3));\n",
              "      fill: #FFFFFF;\n",
              "    }\n",
              "  </style>\n",
              "\n",
              "      <script>\n",
              "        const buttonEl =\n",
              "          document.querySelector('#df-93610703-28de-45ca-bcd1-810e3fe4a027 button.colab-df-convert');\n",
              "        buttonEl.style.display =\n",
              "          google.colab.kernel.accessAllowed ? 'block' : 'none';\n",
              "\n",
              "        async function convertToInteractive(key) {\n",
              "          const element = document.querySelector('#df-93610703-28de-45ca-bcd1-810e3fe4a027');\n",
              "          const dataTable =\n",
              "            await google.colab.kernel.invokeFunction('convertToInteractive',\n",
              "                                                     [key], {});\n",
              "          if (!dataTable) return;\n",
              "\n",
              "          const docLinkHtml = 'Like what you see? Visit the ' +\n",
              "            '<a target=\"_blank\" href=https://colab.research.google.com/notebooks/data_table.ipynb>data table notebook</a>'\n",
              "            + ' to learn more about interactive tables.';\n",
              "          element.innerHTML = '';\n",
              "          dataTable['output_type'] = 'display_data';\n",
              "          await google.colab.output.renderOutput(dataTable, element);\n",
              "          const docLink = document.createElement('div');\n",
              "          docLink.innerHTML = docLinkHtml;\n",
              "          element.appendChild(docLink);\n",
              "        }\n",
              "      </script>\n",
              "    </div>\n",
              "  </div>\n",
              "  "
            ]
          },
          "metadata": {},
          "execution_count": 10
        }
      ]
    },
    {
      "cell_type": "code",
      "source": [
        "df_08.dtypes"
      ],
      "metadata": {
        "id": "UdsjE10h96OB"
      },
      "execution_count": null,
      "outputs": []
    },
    {
      "cell_type": "code",
      "source": [
        "df_18.dtypes"
      ],
      "metadata": {
        "id": "b72klqlb-S6D"
      },
      "execution_count": null,
      "outputs": []
    },
    {
      "cell_type": "code",
      "source": [
        "df_08.describe()"
      ],
      "metadata": {
        "id": "oXzj12XW-fW5"
      },
      "execution_count": null,
      "outputs": []
    },
    {
      "cell_type": "code",
      "source": [
        "df_08.isnull().values.sum()"
      ],
      "metadata": {
        "colab": {
          "base_uri": "https://localhost:8080/"
        },
        "id": "pZTUWh8--5YQ",
        "outputId": "3fb8c642-162e-49af-a28c-3a86baf25212"
      },
      "execution_count": null,
      "outputs": [
        {
          "output_type": "execute_result",
          "data": {
            "text/plain": [
              "1685"
            ]
          },
          "metadata": {},
          "execution_count": 18
        }
      ]
    },
    {
      "cell_type": "code",
      "source": [
        "df_08.shape"
      ],
      "metadata": {
        "colab": {
          "base_uri": "https://localhost:8080/"
        },
        "id": "EhosmX-XBHNf",
        "outputId": "e47dd562-7880-45d2-d16c-e9427ac42bd4"
      },
      "execution_count": null,
      "outputs": [
        {
          "output_type": "execute_result",
          "data": {
            "text/plain": [
              "(2404, 18)"
            ]
          },
          "metadata": {},
          "execution_count": 19
        }
      ]
    },
    {
      "cell_type": "code",
      "source": [
        "df_08.isnull().any(axis=1).sum()\n"
      ],
      "metadata": {
        "colab": {
          "base_uri": "https://localhost:8080/"
        },
        "id": "9JiQ4SoQBa5G",
        "outputId": "7c32a675-dbf6-484e-b56a-8dccada02177"
      },
      "execution_count": null,
      "outputs": [
        {
          "output_type": "execute_result",
          "data": {
            "text/plain": [
              "199"
            ]
          },
          "metadata": {},
          "execution_count": 30
        }
      ]
    },
    {
      "cell_type": "code",
      "source": [
        "df_08.tail(100)"
      ],
      "metadata": {
        "id": "p3QbmKtDDKMR"
      },
      "execution_count": null,
      "outputs": []
    },
    {
      "cell_type": "code",
      "source": [
        " df_18.isnull().any(axis=1).sum()"
      ],
      "metadata": {
        "colab": {
          "base_uri": "https://localhost:8080/"
        },
        "id": "bfkDSaT6EOUm",
        "outputId": "879663b2-aeba-4d31-e2f1-54c86f674fee"
      },
      "execution_count": null,
      "outputs": [
        {
          "output_type": "execute_result",
          "data": {
            "text/plain": [
              "2"
            ]
          },
          "metadata": {},
          "execution_count": 28
        }
      ]
    },
    {
      "cell_type": "code",
      "source": [
        "d_18_null"
      ],
      "metadata": {
        "id": "q1TBEhWIEguG"
      },
      "execution_count": null,
      "outputs": []
    },
    {
      "cell_type": "code",
      "source": [
        "df_18.shape"
      ],
      "metadata": {
        "colab": {
          "base_uri": "https://localhost:8080/"
        },
        "id": "RUHGakF8EkxV",
        "outputId": "628b148b-0ec8-49c1-a0fb-4750f9089630"
      },
      "execution_count": null,
      "outputs": [
        {
          "output_type": "execute_result",
          "data": {
            "text/plain": [
              "(1611, 18)"
            ]
          },
          "metadata": {},
          "execution_count": 31
        }
      ]
    },
    {
      "cell_type": "code",
      "source": [
        "df_18.duplicated().sum()"
      ],
      "metadata": {
        "colab": {
          "base_uri": "https://localhost:8080/"
        },
        "id": "n7hnth4BFIGQ",
        "outputId": "7ea1e7a9-7481-45f5-ff85-17c424e1a818"
      },
      "execution_count": null,
      "outputs": [
        {
          "output_type": "execute_result",
          "data": {
            "text/plain": [
              "0"
            ]
          },
          "metadata": {},
          "execution_count": 32
        }
      ]
    },
    {
      "cell_type": "code",
      "source": [
        "df_18.dtypes"
      ],
      "metadata": {
        "id": "EB5IngvxFZ5_"
      },
      "execution_count": null,
      "outputs": []
    },
    {
      "cell_type": "code",
      "source": [
        "df_08.dtypes"
      ],
      "metadata": {
        "id": "b2Anca_FGsKH"
      },
      "execution_count": null,
      "outputs": []
    },
    {
      "cell_type": "code",
      "source": [
        "df_08.value_counts()"
      ],
      "metadata": {
        "id": "qMP0qM9CHCFa"
      },
      "execution_count": null,
      "outputs": []
    },
    {
      "cell_type": "code",
      "source": [
        "df_08['SmartWay'].nunique()"
      ],
      "metadata": {
        "colab": {
          "base_uri": "https://localhost:8080/"
        },
        "id": "oyknBAK1H3ag",
        "outputId": "5b4b822d-26a9-47ff-ebc1-df37f5f4868a"
      },
      "execution_count": null,
      "outputs": [
        {
          "output_type": "execute_result",
          "data": {
            "text/plain": [
              "2"
            ]
          },
          "metadata": {},
          "execution_count": 36
        }
      ]
    },
    {
      "cell_type": "code",
      "source": [
        "df_18['SmartWay'].nunique()"
      ],
      "metadata": {
        "colab": {
          "base_uri": "https://localhost:8080/"
        },
        "id": "JVq-tsURJFKS",
        "outputId": "a6a36c66-9497-4a97-ca70-b7908a8a54f8"
      },
      "execution_count": null,
      "outputs": [
        {
          "output_type": "execute_result",
          "data": {
            "text/plain": [
              "3"
            ]
          },
          "metadata": {},
          "execution_count": 37
        }
      ]
    },
    {
      "cell_type": "code",
      "source": [
        "df_08['Sales Area'].nunique()"
      ],
      "metadata": {
        "colab": {
          "base_uri": "https://localhost:8080/"
        },
        "id": "C0CyEStVJTI1",
        "outputId": "75acb6c5-741d-4301-e2e9-90a05dd73b78"
      },
      "execution_count": null,
      "outputs": [
        {
          "output_type": "execute_result",
          "data": {
            "text/plain": [
              "3"
            ]
          },
          "metadata": {},
          "execution_count": 38
        }
      ]
    },
    {
      "cell_type": "code",
      "source": [
        "df_18['Cert Region'].nunique()"
      ],
      "metadata": {
        "colab": {
          "base_uri": "https://localhost:8080/"
        },
        "id": "r313e2FsJjEc",
        "outputId": "146318d8-3dec-4a56-e61e-6cb66d57c67f"
      },
      "execution_count": null,
      "outputs": [
        {
          "output_type": "execute_result",
          "data": {
            "text/plain": [
              "2"
            ]
          },
          "metadata": {},
          "execution_count": 39
        }
      ]
    },
    {
      "cell_type": "code",
      "source": [
        "df_08['Trans'].nunique()"
      ],
      "metadata": {
        "colab": {
          "base_uri": "https://localhost:8080/"
        },
        "id": "ljfWbW61JuW6",
        "outputId": "cf153ef6-769f-4f74-8561-c0c6c6009ff1"
      },
      "execution_count": null,
      "outputs": [
        {
          "output_type": "execute_result",
          "data": {
            "text/plain": [
              "14"
            ]
          },
          "metadata": {},
          "execution_count": 40
        }
      ]
    },
    {
      "cell_type": "code",
      "source": [
        "df_08['Cyl'].nunique()"
      ],
      "metadata": {
        "colab": {
          "base_uri": "https://localhost:8080/"
        },
        "id": "_I8u7W9GKBTv",
        "outputId": "715178ba-0e88-4e64-c1c9-ee0954dbf067"
      },
      "execution_count": null,
      "outputs": [
        {
          "output_type": "execute_result",
          "data": {
            "text/plain": [
              "8"
            ]
          },
          "metadata": {},
          "execution_count": 41
        }
      ]
    },
    {
      "cell_type": "code",
      "source": [
        "df_18['Cyl'].nunique()"
      ],
      "metadata": {
        "colab": {
          "base_uri": "https://localhost:8080/"
        },
        "id": "erodyaXkKhzd",
        "outputId": "b6deb6df-9d01-43d8-b11c-a07868be2a3d"
      },
      "execution_count": null,
      "outputs": [
        {
          "output_type": "execute_result",
          "data": {
            "text/plain": [
              "7"
            ]
          },
          "metadata": {},
          "execution_count": 42
        }
      ]
    },
    {
      "cell_type": "code",
      "source": [
        "df_08.describe()"
      ],
      "metadata": {
        "id": "LHPNPXXUKqQw"
      },
      "execution_count": null,
      "outputs": []
    },
    {
      "cell_type": "code",
      "source": [
        "df_08.head()"
      ],
      "metadata": {
        "id": "Y7Gg1ubLK1ng"
      },
      "execution_count": null,
      "outputs": []
    },
    {
      "cell_type": "code",
      "source": [
        "df_18.head()"
      ],
      "metadata": {
        "id": "p-sjYfMsK7Ny"
      },
      "execution_count": null,
      "outputs": []
    },
    {
      "cell_type": "code",
      "source": [
        "df_08[df_08.Fuel == 'Gasoline']"
      ],
      "metadata": {
        "id": "mzRRzoh-LCWU"
      },
      "execution_count": null,
      "outputs": []
    },
    {
      "cell_type": "code",
      "source": [
        "df_18[df_18.Fuel == 'Gasoline']"
      ],
      "metadata": {
        "id": "0Iv6b-ppLgAH"
      },
      "execution_count": null,
      "outputs": []
    },
    {
      "cell_type": "code",
      "source": [
        "df_18[df_18.Fuel == 'Ethanol/Gas'].head()"
      ],
      "metadata": {
        "id": "GWjCIdNaMx0A"
      },
      "execution_count": null,
      "outputs": []
    },
    {
      "cell_type": "code",
      "source": [
        "df_08[df_08.Fuel == 'Ethanol/Gas'].head()"
      ],
      "metadata": {
        "id": "z1xRDvP0NBDd"
      },
      "execution_count": null,
      "outputs": []
    },
    {
      "cell_type": "code",
      "source": [
        "aa = df_18.columns.intersection(df_08.columns)\n",
        "print(aa)"
      ],
      "metadata": {
        "id": "LK65sQoJNNNq",
        "colab": {
          "base_uri": "https://localhost:8080/"
        },
        "outputId": "35b6f067-0c02-4e15-a6bd-dbb9a59eb0d5"
      },
      "execution_count": null,
      "outputs": [
        {
          "output_type": "stream",
          "name": "stdout",
          "text": [
            "Index(['model', 'displ', 'cyl', 'trans', 'drive', 'fuel', 'cert_region',\n",
            "       'veh_class', 'air_pollution_score', 'city_mpg', 'hwy_mpg', 'cmb_mpg',\n",
            "       'greenhouse_gas_score', 'smartway'],\n",
            "      dtype='object')\n"
          ]
        }
      ]
    },
    {
      "cell_type": "code",
      "source": [
        "df_18.shape"
      ],
      "metadata": {
        "colab": {
          "base_uri": "https://localhost:8080/"
        },
        "id": "k7wywOX9vuqY",
        "outputId": "3f5a3e50-cb04-40b0-a4e2-14e4f0348ac7"
      },
      "execution_count": null,
      "outputs": [
        {
          "output_type": "execute_result",
          "data": {
            "text/plain": [
              "(1611, 18)"
            ]
          },
          "metadata": {},
          "execution_count": 6
        }
      ]
    },
    {
      "cell_type": "code",
      "source": [
        "df_08.shape"
      ],
      "metadata": {
        "colab": {
          "base_uri": "https://localhost:8080/"
        },
        "id": "pmB3IL4F0XNW",
        "outputId": "bbce6118-7e7c-42e4-fb0d-c728c75bb96e"
      },
      "execution_count": null,
      "outputs": [
        {
          "output_type": "execute_result",
          "data": {
            "text/plain": [
              "(2404, 18)"
            ]
          },
          "metadata": {},
          "execution_count": 9
        }
      ]
    },
    {
      "cell_type": "code",
      "source": [
        "df_08.head()"
      ],
      "metadata": {
        "id": "E3uQ8FXm0a6w"
      },
      "execution_count": null,
      "outputs": []
    },
    {
      "cell_type": "code",
      "source": [
        "df_18.head()"
      ],
      "metadata": {
        "id": "QGkXBqPT0rpj"
      },
      "execution_count": null,
      "outputs": []
    },
    {
      "cell_type": "code",
      "source": [
        "df_08.drop(['Stnd', 'Underhood ID', 'FE Calc Appr', 'Unadj Cmb MPG'],axis=1,inplace=True)\n",
        "df_08.shape"
      ],
      "metadata": {
        "colab": {
          "base_uri": "https://localhost:8080/"
        },
        "id": "SNWAY_se1CyP",
        "outputId": "144772ad-651a-4038-a554-163d2fe1d440"
      },
      "execution_count": 2,
      "outputs": [
        {
          "output_type": "execute_result",
          "data": {
            "text/plain": [
              "(2404, 14)"
            ]
          },
          "metadata": {},
          "execution_count": 2
        }
      ]
    },
    {
      "cell_type": "code",
      "source": [
        "df_18.drop(['Stnd', 'Stnd Description', 'Underhood ID', 'Comb CO2'],axis=1,inplace=True)\n",
        "df_18.shape"
      ],
      "metadata": {
        "colab": {
          "base_uri": "https://localhost:8080/"
        },
        "id": "L4lGYvX_2ZOI",
        "outputId": "804db64c-5f3b-4c56-fe89-d53fb37ec7b2"
      },
      "execution_count": 3,
      "outputs": [
        {
          "output_type": "execute_result",
          "data": {
            "text/plain": [
              "(1611, 14)"
            ]
          },
          "metadata": {},
          "execution_count": 3
        }
      ]
    },
    {
      "cell_type": "code",
      "source": [
        "df_08.rename({'Sales Area':'Cert Region'},axis=1,inplace=True)"
      ],
      "metadata": {
        "id": "SSKjyG2K2yVp"
      },
      "execution_count": 5,
      "outputs": []
    },
    {
      "cell_type": "code",
      "source": [
        "df_08.rename(columns=lambda x:x.strip().lower().replace(' ','_'),inplace=True)"
      ],
      "metadata": {
        "id": "PXwmtnTq3PwT"
      },
      "execution_count": 6,
      "outputs": []
    },
    {
      "cell_type": "code",
      "source": [
        "df_08.head(1)"
      ],
      "metadata": {
        "id": "iqblzIK45nVh",
        "outputId": "8f7ef4c7-c572-4479-f795-65755992fe0f",
        "colab": {
          "base_uri": "https://localhost:8080/",
          "height": 81
        }
      },
      "execution_count": null,
      "outputs": [
        {
          "output_type": "execute_result",
          "data": {
            "text/plain": [
              "       model  displ      cyl    trans drive      fuel cert_region veh_class  \\\n",
              "0  ACURA MDX    3.7  (6 cyl)  Auto-S5   4WD  Gasoline          CA       SUV   \n",
              "\n",
              "  air_pollution_score city_mpg hwy_mpg cmb_mpg greenhouse_gas_score smartway  \n",
              "0                   7       15      20      17                    4       no  "
            ],
            "text/html": [
              "\n",
              "  <div id=\"df-6ebc9dbd-de78-4349-97d4-2684011b51ac\">\n",
              "    <div class=\"colab-df-container\">\n",
              "      <div>\n",
              "<style scoped>\n",
              "    .dataframe tbody tr th:only-of-type {\n",
              "        vertical-align: middle;\n",
              "    }\n",
              "\n",
              "    .dataframe tbody tr th {\n",
              "        vertical-align: top;\n",
              "    }\n",
              "\n",
              "    .dataframe thead th {\n",
              "        text-align: right;\n",
              "    }\n",
              "</style>\n",
              "<table border=\"1\" class=\"dataframe\">\n",
              "  <thead>\n",
              "    <tr style=\"text-align: right;\">\n",
              "      <th></th>\n",
              "      <th>model</th>\n",
              "      <th>displ</th>\n",
              "      <th>cyl</th>\n",
              "      <th>trans</th>\n",
              "      <th>drive</th>\n",
              "      <th>fuel</th>\n",
              "      <th>cert_region</th>\n",
              "      <th>veh_class</th>\n",
              "      <th>air_pollution_score</th>\n",
              "      <th>city_mpg</th>\n",
              "      <th>hwy_mpg</th>\n",
              "      <th>cmb_mpg</th>\n",
              "      <th>greenhouse_gas_score</th>\n",
              "      <th>smartway</th>\n",
              "    </tr>\n",
              "  </thead>\n",
              "  <tbody>\n",
              "    <tr>\n",
              "      <th>0</th>\n",
              "      <td>ACURA MDX</td>\n",
              "      <td>3.7</td>\n",
              "      <td>(6 cyl)</td>\n",
              "      <td>Auto-S5</td>\n",
              "      <td>4WD</td>\n",
              "      <td>Gasoline</td>\n",
              "      <td>CA</td>\n",
              "      <td>SUV</td>\n",
              "      <td>7</td>\n",
              "      <td>15</td>\n",
              "      <td>20</td>\n",
              "      <td>17</td>\n",
              "      <td>4</td>\n",
              "      <td>no</td>\n",
              "    </tr>\n",
              "  </tbody>\n",
              "</table>\n",
              "</div>\n",
              "      <button class=\"colab-df-convert\" onclick=\"convertToInteractive('df-6ebc9dbd-de78-4349-97d4-2684011b51ac')\"\n",
              "              title=\"Convert this dataframe to an interactive table.\"\n",
              "              style=\"display:none;\">\n",
              "        \n",
              "  <svg xmlns=\"http://www.w3.org/2000/svg\" height=\"24px\"viewBox=\"0 0 24 24\"\n",
              "       width=\"24px\">\n",
              "    <path d=\"M0 0h24v24H0V0z\" fill=\"none\"/>\n",
              "    <path d=\"M18.56 5.44l.94 2.06.94-2.06 2.06-.94-2.06-.94-.94-2.06-.94 2.06-2.06.94zm-11 1L8.5 8.5l.94-2.06 2.06-.94-2.06-.94L8.5 2.5l-.94 2.06-2.06.94zm10 10l.94 2.06.94-2.06 2.06-.94-2.06-.94-.94-2.06-.94 2.06-2.06.94z\"/><path d=\"M17.41 7.96l-1.37-1.37c-.4-.4-.92-.59-1.43-.59-.52 0-1.04.2-1.43.59L10.3 9.45l-7.72 7.72c-.78.78-.78 2.05 0 2.83L4 21.41c.39.39.9.59 1.41.59.51 0 1.02-.2 1.41-.59l7.78-7.78 2.81-2.81c.8-.78.8-2.07 0-2.86zM5.41 20L4 18.59l7.72-7.72 1.47 1.35L5.41 20z\"/>\n",
              "  </svg>\n",
              "      </button>\n",
              "      \n",
              "  <style>\n",
              "    .colab-df-container {\n",
              "      display:flex;\n",
              "      flex-wrap:wrap;\n",
              "      gap: 12px;\n",
              "    }\n",
              "\n",
              "    .colab-df-convert {\n",
              "      background-color: #E8F0FE;\n",
              "      border: none;\n",
              "      border-radius: 50%;\n",
              "      cursor: pointer;\n",
              "      display: none;\n",
              "      fill: #1967D2;\n",
              "      height: 32px;\n",
              "      padding: 0 0 0 0;\n",
              "      width: 32px;\n",
              "    }\n",
              "\n",
              "    .colab-df-convert:hover {\n",
              "      background-color: #E2EBFA;\n",
              "      box-shadow: 0px 1px 2px rgba(60, 64, 67, 0.3), 0px 1px 3px 1px rgba(60, 64, 67, 0.15);\n",
              "      fill: #174EA6;\n",
              "    }\n",
              "\n",
              "    [theme=dark] .colab-df-convert {\n",
              "      background-color: #3B4455;\n",
              "      fill: #D2E3FC;\n",
              "    }\n",
              "\n",
              "    [theme=dark] .colab-df-convert:hover {\n",
              "      background-color: #434B5C;\n",
              "      box-shadow: 0px 1px 3px 1px rgba(0, 0, 0, 0.15);\n",
              "      filter: drop-shadow(0px 1px 2px rgba(0, 0, 0, 0.3));\n",
              "      fill: #FFFFFF;\n",
              "    }\n",
              "  </style>\n",
              "\n",
              "      <script>\n",
              "        const buttonEl =\n",
              "          document.querySelector('#df-6ebc9dbd-de78-4349-97d4-2684011b51ac button.colab-df-convert');\n",
              "        buttonEl.style.display =\n",
              "          google.colab.kernel.accessAllowed ? 'block' : 'none';\n",
              "\n",
              "        async function convertToInteractive(key) {\n",
              "          const element = document.querySelector('#df-6ebc9dbd-de78-4349-97d4-2684011b51ac');\n",
              "          const dataTable =\n",
              "            await google.colab.kernel.invokeFunction('convertToInteractive',\n",
              "                                                     [key], {});\n",
              "          if (!dataTable) return;\n",
              "\n",
              "          const docLinkHtml = 'Like what you see? Visit the ' +\n",
              "            '<a target=\"_blank\" href=https://colab.research.google.com/notebooks/data_table.ipynb>data table notebook</a>'\n",
              "            + ' to learn more about interactive tables.';\n",
              "          element.innerHTML = '';\n",
              "          dataTable['output_type'] = 'display_data';\n",
              "          await google.colab.output.renderOutput(dataTable, element);\n",
              "          const docLink = document.createElement('div');\n",
              "          docLink.innerHTML = docLinkHtml;\n",
              "          element.appendChild(docLink);\n",
              "        }\n",
              "      </script>\n",
              "    </div>\n",
              "  </div>\n",
              "  "
            ]
          },
          "metadata": {},
          "execution_count": 12
        }
      ]
    },
    {
      "cell_type": "code",
      "source": [
        ""
      ],
      "metadata": {
        "id": "B3i7WpFx5nYk"
      },
      "execution_count": null,
      "outputs": []
    },
    {
      "cell_type": "markdown",
      "source": [
        ""
      ],
      "metadata": {
        "id": "LNSZGNB95wi8"
      }
    },
    {
      "cell_type": "markdown",
      "source": [
        "Change columns to lowercase and replace spaces with _\n"
      ],
      "metadata": {
        "id": "5jQtP2CS5wpM"
      }
    },
    {
      "cell_type": "code",
      "source": [
        "df_18.rename(columns=lambda x:x.strip().lower().replace(' ','_'),inplace=True)"
      ],
      "metadata": {
        "id": "t839TkUT5GpO"
      },
      "execution_count": 7,
      "outputs": []
    },
    {
      "cell_type": "code",
      "source": [
        "df_18.head(1)"
      ],
      "metadata": {
        "id": "IAgxrSSc5asO",
        "outputId": "6e6e8546-f0dc-4ef5-f4fa-a9b3377cbd71",
        "colab": {
          "base_uri": "https://localhost:8080/",
          "height": 81
        }
      },
      "execution_count": null,
      "outputs": [
        {
          "output_type": "execute_result",
          "data": {
            "text/plain": [
              "       model  displ  cyl       trans drive      fuel cert_region  veh_class  \\\n",
              "0  ACURA RDX    3.5  6.0  SemiAuto-6   2WD  Gasoline          FA  small SUV   \n",
              "\n",
              "   air_pollution_score city_mpg hwy_mpg cmb_mpg  greenhouse_gas_score smartway  \n",
              "0                    3       20      28      23                     5       No  "
            ],
            "text/html": [
              "\n",
              "  <div id=\"df-44c7f60e-68c9-491b-bd4b-deeb0376662b\">\n",
              "    <div class=\"colab-df-container\">\n",
              "      <div>\n",
              "<style scoped>\n",
              "    .dataframe tbody tr th:only-of-type {\n",
              "        vertical-align: middle;\n",
              "    }\n",
              "\n",
              "    .dataframe tbody tr th {\n",
              "        vertical-align: top;\n",
              "    }\n",
              "\n",
              "    .dataframe thead th {\n",
              "        text-align: right;\n",
              "    }\n",
              "</style>\n",
              "<table border=\"1\" class=\"dataframe\">\n",
              "  <thead>\n",
              "    <tr style=\"text-align: right;\">\n",
              "      <th></th>\n",
              "      <th>model</th>\n",
              "      <th>displ</th>\n",
              "      <th>cyl</th>\n",
              "      <th>trans</th>\n",
              "      <th>drive</th>\n",
              "      <th>fuel</th>\n",
              "      <th>cert_region</th>\n",
              "      <th>veh_class</th>\n",
              "      <th>air_pollution_score</th>\n",
              "      <th>city_mpg</th>\n",
              "      <th>hwy_mpg</th>\n",
              "      <th>cmb_mpg</th>\n",
              "      <th>greenhouse_gas_score</th>\n",
              "      <th>smartway</th>\n",
              "    </tr>\n",
              "  </thead>\n",
              "  <tbody>\n",
              "    <tr>\n",
              "      <th>0</th>\n",
              "      <td>ACURA RDX</td>\n",
              "      <td>3.5</td>\n",
              "      <td>6.0</td>\n",
              "      <td>SemiAuto-6</td>\n",
              "      <td>2WD</td>\n",
              "      <td>Gasoline</td>\n",
              "      <td>FA</td>\n",
              "      <td>small SUV</td>\n",
              "      <td>3</td>\n",
              "      <td>20</td>\n",
              "      <td>28</td>\n",
              "      <td>23</td>\n",
              "      <td>5</td>\n",
              "      <td>No</td>\n",
              "    </tr>\n",
              "  </tbody>\n",
              "</table>\n",
              "</div>\n",
              "      <button class=\"colab-df-convert\" onclick=\"convertToInteractive('df-44c7f60e-68c9-491b-bd4b-deeb0376662b')\"\n",
              "              title=\"Convert this dataframe to an interactive table.\"\n",
              "              style=\"display:none;\">\n",
              "        \n",
              "  <svg xmlns=\"http://www.w3.org/2000/svg\" height=\"24px\"viewBox=\"0 0 24 24\"\n",
              "       width=\"24px\">\n",
              "    <path d=\"M0 0h24v24H0V0z\" fill=\"none\"/>\n",
              "    <path d=\"M18.56 5.44l.94 2.06.94-2.06 2.06-.94-2.06-.94-.94-2.06-.94 2.06-2.06.94zm-11 1L8.5 8.5l.94-2.06 2.06-.94-2.06-.94L8.5 2.5l-.94 2.06-2.06.94zm10 10l.94 2.06.94-2.06 2.06-.94-2.06-.94-.94-2.06-.94 2.06-2.06.94z\"/><path d=\"M17.41 7.96l-1.37-1.37c-.4-.4-.92-.59-1.43-.59-.52 0-1.04.2-1.43.59L10.3 9.45l-7.72 7.72c-.78.78-.78 2.05 0 2.83L4 21.41c.39.39.9.59 1.41.59.51 0 1.02-.2 1.41-.59l7.78-7.78 2.81-2.81c.8-.78.8-2.07 0-2.86zM5.41 20L4 18.59l7.72-7.72 1.47 1.35L5.41 20z\"/>\n",
              "  </svg>\n",
              "      </button>\n",
              "      \n",
              "  <style>\n",
              "    .colab-df-container {\n",
              "      display:flex;\n",
              "      flex-wrap:wrap;\n",
              "      gap: 12px;\n",
              "    }\n",
              "\n",
              "    .colab-df-convert {\n",
              "      background-color: #E8F0FE;\n",
              "      border: none;\n",
              "      border-radius: 50%;\n",
              "      cursor: pointer;\n",
              "      display: none;\n",
              "      fill: #1967D2;\n",
              "      height: 32px;\n",
              "      padding: 0 0 0 0;\n",
              "      width: 32px;\n",
              "    }\n",
              "\n",
              "    .colab-df-convert:hover {\n",
              "      background-color: #E2EBFA;\n",
              "      box-shadow: 0px 1px 2px rgba(60, 64, 67, 0.3), 0px 1px 3px 1px rgba(60, 64, 67, 0.15);\n",
              "      fill: #174EA6;\n",
              "    }\n",
              "\n",
              "    [theme=dark] .colab-df-convert {\n",
              "      background-color: #3B4455;\n",
              "      fill: #D2E3FC;\n",
              "    }\n",
              "\n",
              "    [theme=dark] .colab-df-convert:hover {\n",
              "      background-color: #434B5C;\n",
              "      box-shadow: 0px 1px 3px 1px rgba(0, 0, 0, 0.15);\n",
              "      filter: drop-shadow(0px 1px 2px rgba(0, 0, 0, 0.3));\n",
              "      fill: #FFFFFF;\n",
              "    }\n",
              "  </style>\n",
              "\n",
              "      <script>\n",
              "        const buttonEl =\n",
              "          document.querySelector('#df-44c7f60e-68c9-491b-bd4b-deeb0376662b button.colab-df-convert');\n",
              "        buttonEl.style.display =\n",
              "          google.colab.kernel.accessAllowed ? 'block' : 'none';\n",
              "\n",
              "        async function convertToInteractive(key) {\n",
              "          const element = document.querySelector('#df-44c7f60e-68c9-491b-bd4b-deeb0376662b');\n",
              "          const dataTable =\n",
              "            await google.colab.kernel.invokeFunction('convertToInteractive',\n",
              "                                                     [key], {});\n",
              "          if (!dataTable) return;\n",
              "\n",
              "          const docLinkHtml = 'Like what you see? Visit the ' +\n",
              "            '<a target=\"_blank\" href=https://colab.research.google.com/notebooks/data_table.ipynb>data table notebook</a>'\n",
              "            + ' to learn more about interactive tables.';\n",
              "          element.innerHTML = '';\n",
              "          dataTable['output_type'] = 'display_data';\n",
              "          await google.colab.output.renderOutput(dataTable, element);\n",
              "          const docLink = document.createElement('div');\n",
              "          docLink.innerHTML = docLinkHtml;\n",
              "          element.appendChild(docLink);\n",
              "        }\n",
              "      </script>\n",
              "    </div>\n",
              "  </div>\n",
              "  "
            ]
          },
          "metadata": {},
          "execution_count": 7
        }
      ]
    },
    {
      "cell_type": "markdown",
      "source": [
        "confirm both dataframes have same columns"
      ],
      "metadata": {
        "id": "zfEw8X5v6OHW"
      }
    },
    {
      "cell_type": "code",
      "source": [
        "(df_08.columns == df_18.columns).all()"
      ],
      "metadata": {
        "colab": {
          "base_uri": "https://localhost:8080/"
        },
        "id": "Y4pUHOqj5eej",
        "outputId": "2769cb9c-c682-4b2e-adf9-e51cf16787d2"
      },
      "execution_count": null,
      "outputs": [
        {
          "output_type": "execute_result",
          "data": {
            "text/plain": [
              "True"
            ]
          },
          "metadata": {},
          "execution_count": 13
        }
      ]
    },
    {
      "cell_type": "code",
      "source": [
        "df_08.to_csv('data_08_v1',index=False)\n",
        "df_18.to_csv('data_18_v1', index=False)"
      ],
      "metadata": {
        "id": "9MRPrMpL6cY1"
      },
      "execution_count": null,
      "outputs": []
    },
    {
      "cell_type": "code",
      "source": [
        "# query columns  where cert_region is CA\n",
        "CA_08df = df_08.query(\"cert_region == 'CA'\")\n"
      ],
      "metadata": {
        "id": "pTfruBwZ61lN"
      },
      "execution_count": 8,
      "outputs": []
    },
    {
      "cell_type": "code",
      "source": [
        "CA_08df.head(1)\n",
        "\n",
        "# CA_08df.drop(['cert_region'],axis=1,inplace=True)\n",
        "CA_08df.shape"
      ],
      "metadata": {
        "colab": {
          "base_uri": "https://localhost:8080/"
        },
        "id": "3XG-fwQhA7A4",
        "outputId": "27f0c7fd-efa2-456d-8afc-d3c0abdf1219"
      },
      "execution_count": null,
      "outputs": [
        {
          "output_type": "execute_result",
          "data": {
            "text/plain": [
              "(1084, 13)"
            ]
          },
          "metadata": {},
          "execution_count": 33
        }
      ]
    },
    {
      "cell_type": "code",
      "source": [
        "# (df_08.columns == CA_08df.columns).all()\n",
        "df_08.shape"
      ],
      "metadata": {
        "colab": {
          "base_uri": "https://localhost:8080/"
        },
        "id": "OgsiqLmy8Uwb",
        "outputId": "76439301-2bd7-48f7-f606-781e9157d5cb"
      },
      "execution_count": null,
      "outputs": [
        {
          "output_type": "execute_result",
          "data": {
            "text/plain": [
              "(2404, 14)"
            ]
          },
          "metadata": {},
          "execution_count": 16
        }
      ]
    },
    {
      "cell_type": "code",
      "source": [
        "CA_08df.head(1)"
      ],
      "metadata": {
        "id": "_nJtsZSPNY5o"
      },
      "execution_count": null,
      "outputs": []
    },
    {
      "cell_type": "code",
      "source": [
        "CA_18df = df_18.query(\"cert_region == 'CA'\")"
      ],
      "metadata": {
        "id": "GiErzIZDBeyn"
      },
      "execution_count": 9,
      "outputs": []
    },
    {
      "cell_type": "code",
      "source": [
        "CA_18df.shape"
      ],
      "metadata": {
        "colab": {
          "base_uri": "https://localhost:8080/"
        },
        "id": "StRmjdDnNx45",
        "outputId": "03b50db5-b791-41da-a2cb-9c85de67b889"
      },
      "execution_count": null,
      "outputs": [
        {
          "output_type": "execute_result",
          "data": {
            "text/plain": [
              "(798, 14)"
            ]
          },
          "metadata": {},
          "execution_count": 44
        }
      ]
    },
    {
      "cell_type": "markdown",
      "source": [
        ""
      ],
      "metadata": {
        "id": "UOW0iU469GfA"
      }
    },
    {
      "cell_type": "code",
      "source": [
        "#create datasets of missing values\n",
        "ca =  CA_08df[CA_08df.isna().any(axis=1)]"
      ],
      "metadata": {
        "id": "4PnVsci-B0lv"
      },
      "execution_count": null,
      "outputs": []
    },
    {
      "cell_type": "code",
      "source": [
        "ca.shape"
      ],
      "metadata": {
        "colab": {
          "base_uri": "https://localhost:8080/"
        },
        "id": "BR3Fc09yB0qz",
        "outputId": "802921a1-ed01-466b-948b-477fa940e4f2"
      },
      "execution_count": null,
      "outputs": [
        {
          "output_type": "execute_result",
          "data": {
            "text/plain": [
              "(0, 14)"
            ]
          },
          "metadata": {},
          "execution_count": 27
        }
      ]
    },
    {
      "cell_type": "code",
      "source": [
        "ca.head()"
      ],
      "metadata": {
        "id": "IOUZvQWFDLI7"
      },
      "execution_count": null,
      "outputs": []
    },
    {
      "cell_type": "code",
      "source": [
        "# drop missing  values\n",
        "CA_08df.dropna(how='any',inplace=True)\n",
        "# CA_08df.shape"
      ],
      "metadata": {
        "id": "bslqswZlDP12",
        "outputId": "de7d9e41-9959-4ef7-afd3-f3dbe214e1a2",
        "colab": {
          "base_uri": "https://localhost:8080/"
        }
      },
      "execution_count": 10,
      "outputs": [
        {
          "output_type": "stream",
          "name": "stderr",
          "text": [
            "/usr/local/lib/python3.7/dist-packages/pandas/util/_decorators.py:311: SettingWithCopyWarning: \n",
            "A value is trying to be set on a copy of a slice from a DataFrame\n",
            "\n",
            "See the caveats in the documentation: https://pandas.pydata.org/pandas-docs/stable/user_guide/indexing.html#returning-a-view-versus-a-copy\n",
            "  return func(*args, **kwargs)\n"
          ]
        }
      ]
    },
    {
      "cell_type": "code",
      "source": [
        "# removing duplicate rows\n",
        "CA_08df.drop_duplicates(inplace=True)\n",
        "CA_08df.shape"
      ],
      "metadata": {
        "id": "C5L2SUchDx85",
        "outputId": "e0d3a3ed-e156-4238-af53-9803a892196f",
        "colab": {
          "base_uri": "https://localhost:8080/"
        }
      },
      "execution_count": 11,
      "outputs": [
        {
          "output_type": "stream",
          "name": "stderr",
          "text": [
            "/usr/local/lib/python3.7/dist-packages/pandas/util/_decorators.py:311: SettingWithCopyWarning: \n",
            "A value is trying to be set on a copy of a slice from a DataFrame\n",
            "\n",
            "See the caveats in the documentation: https://pandas.pydata.org/pandas-docs/stable/user_guide/indexing.html#returning-a-view-versus-a-copy\n",
            "  return func(*args, **kwargs)\n"
          ]
        },
        {
          "output_type": "execute_result",
          "data": {
            "text/plain": [
              "(986, 14)"
            ]
          },
          "metadata": {},
          "execution_count": 11
        }
      ]
    },
    {
      "cell_type": "code",
      "source": [
        "# number of duplicates\n",
        "CA_08df.duplicated().sum()\n"
      ],
      "metadata": {
        "colab": {
          "base_uri": "https://localhost:8080/"
        },
        "id": "lAzcE_nnEpEP",
        "outputId": "c6d7c0c2-8636-4034-a3f2-3399714e438a"
      },
      "execution_count": null,
      "outputs": [
        {
          "output_type": "execute_result",
          "data": {
            "text/plain": [
              "0"
            ]
          },
          "metadata": {},
          "execution_count": 24
        }
      ]
    },
    {
      "cell_type": "code",
      "source": [
        "CA_08df.dtypes"
      ],
      "metadata": {
        "id": "yLrLqk10Fite"
      },
      "execution_count": null,
      "outputs": []
    },
    {
      "cell_type": "code",
      "source": [
        "CA_18df.dtypes"
      ],
      "metadata": {
        "id": "oWcGk_kXOcx-"
      },
      "execution_count": null,
      "outputs": []
    },
    {
      "cell_type": "code",
      "source": [
        "CA_08df.head()"
      ],
      "metadata": {
        "id": "ItXpUZHHQU1s"
      },
      "execution_count": null,
      "outputs": []
    },
    {
      "cell_type": "code",
      "source": [
        "CA_08df['cyl'] = CA_08df['cyl'].apply(lambda x:x.strip(' (cyl)'))\n",
        "CA_08df.head(1)"
      ],
      "metadata": {
        "colab": {
          "base_uri": "https://localhost:8080/",
          "height": 269
        },
        "id": "AmwVnq96_1Rd",
        "outputId": "a8f54c5a-a4b2-437d-da47-638d787a49c6"
      },
      "execution_count": 12,
      "outputs": [
        {
          "output_type": "stream",
          "name": "stderr",
          "text": [
            "/usr/local/lib/python3.7/dist-packages/ipykernel_launcher.py:1: SettingWithCopyWarning: \n",
            "A value is trying to be set on a copy of a slice from a DataFrame.\n",
            "Try using .loc[row_indexer,col_indexer] = value instead\n",
            "\n",
            "See the caveats in the documentation: https://pandas.pydata.org/pandas-docs/stable/user_guide/indexing.html#returning-a-view-versus-a-copy\n",
            "  \"\"\"Entry point for launching an IPython kernel.\n"
          ]
        },
        {
          "output_type": "execute_result",
          "data": {
            "text/plain": [
              "       model  displ cyl    trans drive      fuel cert_region veh_class  \\\n",
              "0  ACURA MDX    3.7   6  Auto-S5   4WD  Gasoline          CA       SUV   \n",
              "\n",
              "  air_pollution_score city_mpg hwy_mpg cmb_mpg greenhouse_gas_score smartway  \n",
              "0                   7       15      20      17                    4       no  "
            ],
            "text/html": [
              "\n",
              "  <div id=\"df-624c4d9f-519e-4a1b-955f-4970633eed7d\">\n",
              "    <div class=\"colab-df-container\">\n",
              "      <div>\n",
              "<style scoped>\n",
              "    .dataframe tbody tr th:only-of-type {\n",
              "        vertical-align: middle;\n",
              "    }\n",
              "\n",
              "    .dataframe tbody tr th {\n",
              "        vertical-align: top;\n",
              "    }\n",
              "\n",
              "    .dataframe thead th {\n",
              "        text-align: right;\n",
              "    }\n",
              "</style>\n",
              "<table border=\"1\" class=\"dataframe\">\n",
              "  <thead>\n",
              "    <tr style=\"text-align: right;\">\n",
              "      <th></th>\n",
              "      <th>model</th>\n",
              "      <th>displ</th>\n",
              "      <th>cyl</th>\n",
              "      <th>trans</th>\n",
              "      <th>drive</th>\n",
              "      <th>fuel</th>\n",
              "      <th>cert_region</th>\n",
              "      <th>veh_class</th>\n",
              "      <th>air_pollution_score</th>\n",
              "      <th>city_mpg</th>\n",
              "      <th>hwy_mpg</th>\n",
              "      <th>cmb_mpg</th>\n",
              "      <th>greenhouse_gas_score</th>\n",
              "      <th>smartway</th>\n",
              "    </tr>\n",
              "  </thead>\n",
              "  <tbody>\n",
              "    <tr>\n",
              "      <th>0</th>\n",
              "      <td>ACURA MDX</td>\n",
              "      <td>3.7</td>\n",
              "      <td>6</td>\n",
              "      <td>Auto-S5</td>\n",
              "      <td>4WD</td>\n",
              "      <td>Gasoline</td>\n",
              "      <td>CA</td>\n",
              "      <td>SUV</td>\n",
              "      <td>7</td>\n",
              "      <td>15</td>\n",
              "      <td>20</td>\n",
              "      <td>17</td>\n",
              "      <td>4</td>\n",
              "      <td>no</td>\n",
              "    </tr>\n",
              "  </tbody>\n",
              "</table>\n",
              "</div>\n",
              "      <button class=\"colab-df-convert\" onclick=\"convertToInteractive('df-624c4d9f-519e-4a1b-955f-4970633eed7d')\"\n",
              "              title=\"Convert this dataframe to an interactive table.\"\n",
              "              style=\"display:none;\">\n",
              "        \n",
              "  <svg xmlns=\"http://www.w3.org/2000/svg\" height=\"24px\"viewBox=\"0 0 24 24\"\n",
              "       width=\"24px\">\n",
              "    <path d=\"M0 0h24v24H0V0z\" fill=\"none\"/>\n",
              "    <path d=\"M18.56 5.44l.94 2.06.94-2.06 2.06-.94-2.06-.94-.94-2.06-.94 2.06-2.06.94zm-11 1L8.5 8.5l.94-2.06 2.06-.94-2.06-.94L8.5 2.5l-.94 2.06-2.06.94zm10 10l.94 2.06.94-2.06 2.06-.94-2.06-.94-.94-2.06-.94 2.06-2.06.94z\"/><path d=\"M17.41 7.96l-1.37-1.37c-.4-.4-.92-.59-1.43-.59-.52 0-1.04.2-1.43.59L10.3 9.45l-7.72 7.72c-.78.78-.78 2.05 0 2.83L4 21.41c.39.39.9.59 1.41.59.51 0 1.02-.2 1.41-.59l7.78-7.78 2.81-2.81c.8-.78.8-2.07 0-2.86zM5.41 20L4 18.59l7.72-7.72 1.47 1.35L5.41 20z\"/>\n",
              "  </svg>\n",
              "      </button>\n",
              "      \n",
              "  <style>\n",
              "    .colab-df-container {\n",
              "      display:flex;\n",
              "      flex-wrap:wrap;\n",
              "      gap: 12px;\n",
              "    }\n",
              "\n",
              "    .colab-df-convert {\n",
              "      background-color: #E8F0FE;\n",
              "      border: none;\n",
              "      border-radius: 50%;\n",
              "      cursor: pointer;\n",
              "      display: none;\n",
              "      fill: #1967D2;\n",
              "      height: 32px;\n",
              "      padding: 0 0 0 0;\n",
              "      width: 32px;\n",
              "    }\n",
              "\n",
              "    .colab-df-convert:hover {\n",
              "      background-color: #E2EBFA;\n",
              "      box-shadow: 0px 1px 2px rgba(60, 64, 67, 0.3), 0px 1px 3px 1px rgba(60, 64, 67, 0.15);\n",
              "      fill: #174EA6;\n",
              "    }\n",
              "\n",
              "    [theme=dark] .colab-df-convert {\n",
              "      background-color: #3B4455;\n",
              "      fill: #D2E3FC;\n",
              "    }\n",
              "\n",
              "    [theme=dark] .colab-df-convert:hover {\n",
              "      background-color: #434B5C;\n",
              "      box-shadow: 0px 1px 3px 1px rgba(0, 0, 0, 0.15);\n",
              "      filter: drop-shadow(0px 1px 2px rgba(0, 0, 0, 0.3));\n",
              "      fill: #FFFFFF;\n",
              "    }\n",
              "  </style>\n",
              "\n",
              "      <script>\n",
              "        const buttonEl =\n",
              "          document.querySelector('#df-624c4d9f-519e-4a1b-955f-4970633eed7d button.colab-df-convert');\n",
              "        buttonEl.style.display =\n",
              "          google.colab.kernel.accessAllowed ? 'block' : 'none';\n",
              "\n",
              "        async function convertToInteractive(key) {\n",
              "          const element = document.querySelector('#df-624c4d9f-519e-4a1b-955f-4970633eed7d');\n",
              "          const dataTable =\n",
              "            await google.colab.kernel.invokeFunction('convertToInteractive',\n",
              "                                                     [key], {});\n",
              "          if (!dataTable) return;\n",
              "\n",
              "          const docLinkHtml = 'Like what you see? Visit the ' +\n",
              "            '<a target=\"_blank\" href=https://colab.research.google.com/notebooks/data_table.ipynb>data table notebook</a>'\n",
              "            + ' to learn more about interactive tables.';\n",
              "          element.innerHTML = '';\n",
              "          dataTable['output_type'] = 'display_data';\n",
              "          await google.colab.output.renderOutput(dataTable, element);\n",
              "          const docLink = document.createElement('div');\n",
              "          docLink.innerHTML = docLinkHtml;\n",
              "          element.appendChild(docLink);\n",
              "        }\n",
              "      </script>\n",
              "    </div>\n",
              "  </div>\n",
              "  "
            ]
          },
          "metadata": {},
          "execution_count": 12
        }
      ]
    },
    {
      "cell_type": "code",
      "source": [
        "CA_08df['cyl'] = CA_08df.loc[:,['cyl']].astype('int32')\n",
        "#check if the column has alphabets\n",
        "# CA_08df[CA_08df['hwy_mpg'].str.match('/')]"
      ],
      "metadata": {
        "id": "NFSD8etlDDWA",
        "outputId": "ae4baf9e-7719-4c55-8a42-71e8bde0e429",
        "colab": {
          "base_uri": "https://localhost:8080/"
        }
      },
      "execution_count": 13,
      "outputs": [
        {
          "output_type": "stream",
          "name": "stderr",
          "text": [
            "/usr/local/lib/python3.7/dist-packages/ipykernel_launcher.py:1: SettingWithCopyWarning: \n",
            "A value is trying to be set on a copy of a slice from a DataFrame.\n",
            "Try using .loc[row_indexer,col_indexer] = value instead\n",
            "\n",
            "See the caveats in the documentation: https://pandas.pydata.org/pandas-docs/stable/user_guide/indexing.html#returning-a-view-versus-a-copy\n",
            "  \"\"\"Entry point for launching an IPython kernel.\n"
          ]
        }
      ]
    },
    {
      "cell_type": "code",
      "source": [
        "CA_08df.dtypes"
      ],
      "metadata": {
        "id": "NqPTZTHQsJh_",
        "outputId": "0c93955c-918e-4055-fbca-7fdd94c635dc",
        "colab": {
          "base_uri": "https://localhost:8080/"
        }
      },
      "execution_count": null,
      "outputs": [
        {
          "output_type": "execute_result",
          "data": {
            "text/plain": [
              "model                    object\n",
              "displ                   float64\n",
              "cyl                       int32\n",
              "trans                    object\n",
              "drive                    object\n",
              "fuel                     object\n",
              "cert_region              object\n",
              "veh_class                object\n",
              "air_pollution_score      object\n",
              "city_mpg                 object\n",
              "hwy_mpg                  object\n",
              "cmb_mpg                  object\n",
              "greenhouse_gas_score     object\n",
              "smartway                 object\n",
              "dtype: object"
            ]
          },
          "metadata": {},
          "execution_count": 28
        }
      ]
    },
    {
      "cell_type": "code",
      "source": [
        "CA_08df.head(1)"
      ],
      "metadata": {
        "id": "mvfcwDBiDTJL",
        "outputId": "4cb2d9a2-7f5d-473a-865d-6e00deddc7ec",
        "colab": {
          "base_uri": "https://localhost:8080/",
          "height": 81
        }
      },
      "execution_count": null,
      "outputs": [
        {
          "output_type": "execute_result",
          "data": {
            "text/plain": [
              "       model  displ cyl    trans drive      fuel cert_region veh_class  \\\n",
              "0  ACURA MDX    3.7   6  Auto-S5   4WD  Gasoline          CA       SUV   \n",
              "\n",
              "  air_pollution_score city_mpg hwy_mpg cmb_mpg greenhouse_gas_score smartway  \n",
              "0                   7       15      20      17                    4       no  "
            ],
            "text/html": [
              "\n",
              "  <div id=\"df-b6d86df9-3547-4400-82e7-29e4d212e4df\">\n",
              "    <div class=\"colab-df-container\">\n",
              "      <div>\n",
              "<style scoped>\n",
              "    .dataframe tbody tr th:only-of-type {\n",
              "        vertical-align: middle;\n",
              "    }\n",
              "\n",
              "    .dataframe tbody tr th {\n",
              "        vertical-align: top;\n",
              "    }\n",
              "\n",
              "    .dataframe thead th {\n",
              "        text-align: right;\n",
              "    }\n",
              "</style>\n",
              "<table border=\"1\" class=\"dataframe\">\n",
              "  <thead>\n",
              "    <tr style=\"text-align: right;\">\n",
              "      <th></th>\n",
              "      <th>model</th>\n",
              "      <th>displ</th>\n",
              "      <th>cyl</th>\n",
              "      <th>trans</th>\n",
              "      <th>drive</th>\n",
              "      <th>fuel</th>\n",
              "      <th>cert_region</th>\n",
              "      <th>veh_class</th>\n",
              "      <th>air_pollution_score</th>\n",
              "      <th>city_mpg</th>\n",
              "      <th>hwy_mpg</th>\n",
              "      <th>cmb_mpg</th>\n",
              "      <th>greenhouse_gas_score</th>\n",
              "      <th>smartway</th>\n",
              "    </tr>\n",
              "  </thead>\n",
              "  <tbody>\n",
              "    <tr>\n",
              "      <th>0</th>\n",
              "      <td>ACURA MDX</td>\n",
              "      <td>3.7</td>\n",
              "      <td>6</td>\n",
              "      <td>Auto-S5</td>\n",
              "      <td>4WD</td>\n",
              "      <td>Gasoline</td>\n",
              "      <td>CA</td>\n",
              "      <td>SUV</td>\n",
              "      <td>7</td>\n",
              "      <td>15</td>\n",
              "      <td>20</td>\n",
              "      <td>17</td>\n",
              "      <td>4</td>\n",
              "      <td>no</td>\n",
              "    </tr>\n",
              "  </tbody>\n",
              "</table>\n",
              "</div>\n",
              "      <button class=\"colab-df-convert\" onclick=\"convertToInteractive('df-b6d86df9-3547-4400-82e7-29e4d212e4df')\"\n",
              "              title=\"Convert this dataframe to an interactive table.\"\n",
              "              style=\"display:none;\">\n",
              "        \n",
              "  <svg xmlns=\"http://www.w3.org/2000/svg\" height=\"24px\"viewBox=\"0 0 24 24\"\n",
              "       width=\"24px\">\n",
              "    <path d=\"M0 0h24v24H0V0z\" fill=\"none\"/>\n",
              "    <path d=\"M18.56 5.44l.94 2.06.94-2.06 2.06-.94-2.06-.94-.94-2.06-.94 2.06-2.06.94zm-11 1L8.5 8.5l.94-2.06 2.06-.94-2.06-.94L8.5 2.5l-.94 2.06-2.06.94zm10 10l.94 2.06.94-2.06 2.06-.94-2.06-.94-.94-2.06-.94 2.06-2.06.94z\"/><path d=\"M17.41 7.96l-1.37-1.37c-.4-.4-.92-.59-1.43-.59-.52 0-1.04.2-1.43.59L10.3 9.45l-7.72 7.72c-.78.78-.78 2.05 0 2.83L4 21.41c.39.39.9.59 1.41.59.51 0 1.02-.2 1.41-.59l7.78-7.78 2.81-2.81c.8-.78.8-2.07 0-2.86zM5.41 20L4 18.59l7.72-7.72 1.47 1.35L5.41 20z\"/>\n",
              "  </svg>\n",
              "      </button>\n",
              "      \n",
              "  <style>\n",
              "    .colab-df-container {\n",
              "      display:flex;\n",
              "      flex-wrap:wrap;\n",
              "      gap: 12px;\n",
              "    }\n",
              "\n",
              "    .colab-df-convert {\n",
              "      background-color: #E8F0FE;\n",
              "      border: none;\n",
              "      border-radius: 50%;\n",
              "      cursor: pointer;\n",
              "      display: none;\n",
              "      fill: #1967D2;\n",
              "      height: 32px;\n",
              "      padding: 0 0 0 0;\n",
              "      width: 32px;\n",
              "    }\n",
              "\n",
              "    .colab-df-convert:hover {\n",
              "      background-color: #E2EBFA;\n",
              "      box-shadow: 0px 1px 2px rgba(60, 64, 67, 0.3), 0px 1px 3px 1px rgba(60, 64, 67, 0.15);\n",
              "      fill: #174EA6;\n",
              "    }\n",
              "\n",
              "    [theme=dark] .colab-df-convert {\n",
              "      background-color: #3B4455;\n",
              "      fill: #D2E3FC;\n",
              "    }\n",
              "\n",
              "    [theme=dark] .colab-df-convert:hover {\n",
              "      background-color: #434B5C;\n",
              "      box-shadow: 0px 1px 3px 1px rgba(0, 0, 0, 0.15);\n",
              "      filter: drop-shadow(0px 1px 2px rgba(0, 0, 0, 0.3));\n",
              "      fill: #FFFFFF;\n",
              "    }\n",
              "  </style>\n",
              "\n",
              "      <script>\n",
              "        const buttonEl =\n",
              "          document.querySelector('#df-b6d86df9-3547-4400-82e7-29e4d212e4df button.colab-df-convert');\n",
              "        buttonEl.style.display =\n",
              "          google.colab.kernel.accessAllowed ? 'block' : 'none';\n",
              "\n",
              "        async function convertToInteractive(key) {\n",
              "          const element = document.querySelector('#df-b6d86df9-3547-4400-82e7-29e4d212e4df');\n",
              "          const dataTable =\n",
              "            await google.colab.kernel.invokeFunction('convertToInteractive',\n",
              "                                                     [key], {});\n",
              "          if (!dataTable) return;\n",
              "\n",
              "          const docLinkHtml = 'Like what you see? Visit the ' +\n",
              "            '<a target=\"_blank\" href=https://colab.research.google.com/notebooks/data_table.ipynb>data table notebook</a>'\n",
              "            + ' to learn more about interactive tables.';\n",
              "          element.innerHTML = '';\n",
              "          dataTable['output_type'] = 'display_data';\n",
              "          await google.colab.output.renderOutput(dataTable, element);\n",
              "          const docLink = document.createElement('div');\n",
              "          docLink.innerHTML = docLinkHtml;\n",
              "          element.appendChild(docLink);\n",
              "        }\n",
              "      </script>\n",
              "    </div>\n",
              "  </div>\n",
              "  "
            ]
          },
          "metadata": {},
          "execution_count": 22
        }
      ]
    },
    {
      "cell_type": "code",
      "source": [
        ""
      ],
      "metadata": {
        "id": "dYb004NLq8Nb"
      },
      "execution_count": null,
      "outputs": []
    },
    {
      "cell_type": "code",
      "source": [
        ""
      ],
      "metadata": {
        "id": "3pa04hlpIprp"
      },
      "execution_count": null,
      "outputs": []
    },
    {
      "cell_type": "code",
      "source": [
        "CA_08df.tail(50)"
      ],
      "metadata": {
        "id": "HjoLjuDnIpvj"
      },
      "execution_count": null,
      "outputs": []
    },
    {
      "cell_type": "code",
      "source": [
        "# CA_08df.astype({'city_mpg':'int64','hwy_mpg':'int64','cmb_mpg':'int64'})"
      ],
      "metadata": {
        "id": "as7nk9ziDfFh"
      },
      "execution_count": null,
      "outputs": []
    },
    {
      "cell_type": "code",
      "source": [
        "CA_08df.cyl.unique()"
      ],
      "metadata": {
        "id": "JofYkK34IKgL",
        "outputId": "37af06d3-55fb-4187-97c1-b314b9f9559f",
        "colab": {
          "base_uri": "https://localhost:8080/"
        }
      },
      "execution_count": null,
      "outputs": [
        {
          "output_type": "execute_result",
          "data": {
            "text/plain": [
              "array([ 6,  4, 12,  8, 10, 16,  5,  2], dtype=int32)"
            ]
          },
          "metadata": {},
          "execution_count": 34
        }
      ]
    },
    {
      "cell_type": "code",
      "source": [
        "CA_18df.cyl.unique()"
      ],
      "metadata": {
        "id": "chg-jkfo1cUk",
        "outputId": "2ff759bf-17df-4796-b861-6c8efc2e74e3",
        "colab": {
          "base_uri": "https://localhost:8080/"
        }
      },
      "execution_count": null,
      "outputs": [
        {
          "output_type": "execute_result",
          "data": {
            "text/plain": [
              "array([ 6.,  4.,  5., 12., 16.,  8., nan,  3.])"
            ]
          },
          "metadata": {},
          "execution_count": 53
        }
      ]
    },
    {
      "cell_type": "code",
      "source": [
        "CA_08df[CA_08df.fuel == 'ethanol/gas']"
      ],
      "metadata": {
        "id": "SK2rMfv4tXqf",
        "outputId": "7af964c3-829d-44a8-efb3-65dd6ddb3089",
        "colab": {
          "base_uri": "https://localhost:8080/",
          "height": 162
        }
      },
      "execution_count": 14,
      "outputs": [
        {
          "output_type": "execute_result",
          "data": {
            "text/plain": [
              "                   model  displ  cyl    trans drive         fuel cert_region  \\\n",
              "1550  MERCEDES-BENZ C300    3.0    6  Auto-L7   2WD  ethanol/gas          CA   \n",
              "\n",
              "      veh_class air_pollution_score city_mpg hwy_mpg cmb_mpg  \\\n",
              "1550  small car                 6/4    13/18   19/25   15/21   \n",
              "\n",
              "     greenhouse_gas_score smartway  \n",
              "1550                  7/6       no  "
            ],
            "text/html": [
              "\n",
              "  <div id=\"df-f816370b-133b-443f-ae5e-871b61d3b442\">\n",
              "    <div class=\"colab-df-container\">\n",
              "      <div>\n",
              "<style scoped>\n",
              "    .dataframe tbody tr th:only-of-type {\n",
              "        vertical-align: middle;\n",
              "    }\n",
              "\n",
              "    .dataframe tbody tr th {\n",
              "        vertical-align: top;\n",
              "    }\n",
              "\n",
              "    .dataframe thead th {\n",
              "        text-align: right;\n",
              "    }\n",
              "</style>\n",
              "<table border=\"1\" class=\"dataframe\">\n",
              "  <thead>\n",
              "    <tr style=\"text-align: right;\">\n",
              "      <th></th>\n",
              "      <th>model</th>\n",
              "      <th>displ</th>\n",
              "      <th>cyl</th>\n",
              "      <th>trans</th>\n",
              "      <th>drive</th>\n",
              "      <th>fuel</th>\n",
              "      <th>cert_region</th>\n",
              "      <th>veh_class</th>\n",
              "      <th>air_pollution_score</th>\n",
              "      <th>city_mpg</th>\n",
              "      <th>hwy_mpg</th>\n",
              "      <th>cmb_mpg</th>\n",
              "      <th>greenhouse_gas_score</th>\n",
              "      <th>smartway</th>\n",
              "    </tr>\n",
              "  </thead>\n",
              "  <tbody>\n",
              "    <tr>\n",
              "      <th>1550</th>\n",
              "      <td>MERCEDES-BENZ C300</td>\n",
              "      <td>3.0</td>\n",
              "      <td>6</td>\n",
              "      <td>Auto-L7</td>\n",
              "      <td>2WD</td>\n",
              "      <td>ethanol/gas</td>\n",
              "      <td>CA</td>\n",
              "      <td>small car</td>\n",
              "      <td>6/4</td>\n",
              "      <td>13/18</td>\n",
              "      <td>19/25</td>\n",
              "      <td>15/21</td>\n",
              "      <td>7/6</td>\n",
              "      <td>no</td>\n",
              "    </tr>\n",
              "  </tbody>\n",
              "</table>\n",
              "</div>\n",
              "      <button class=\"colab-df-convert\" onclick=\"convertToInteractive('df-f816370b-133b-443f-ae5e-871b61d3b442')\"\n",
              "              title=\"Convert this dataframe to an interactive table.\"\n",
              "              style=\"display:none;\">\n",
              "        \n",
              "  <svg xmlns=\"http://www.w3.org/2000/svg\" height=\"24px\"viewBox=\"0 0 24 24\"\n",
              "       width=\"24px\">\n",
              "    <path d=\"M0 0h24v24H0V0z\" fill=\"none\"/>\n",
              "    <path d=\"M18.56 5.44l.94 2.06.94-2.06 2.06-.94-2.06-.94-.94-2.06-.94 2.06-2.06.94zm-11 1L8.5 8.5l.94-2.06 2.06-.94-2.06-.94L8.5 2.5l-.94 2.06-2.06.94zm10 10l.94 2.06.94-2.06 2.06-.94-2.06-.94-.94-2.06-.94 2.06-2.06.94z\"/><path d=\"M17.41 7.96l-1.37-1.37c-.4-.4-.92-.59-1.43-.59-.52 0-1.04.2-1.43.59L10.3 9.45l-7.72 7.72c-.78.78-.78 2.05 0 2.83L4 21.41c.39.39.9.59 1.41.59.51 0 1.02-.2 1.41-.59l7.78-7.78 2.81-2.81c.8-.78.8-2.07 0-2.86zM5.41 20L4 18.59l7.72-7.72 1.47 1.35L5.41 20z\"/>\n",
              "  </svg>\n",
              "      </button>\n",
              "      \n",
              "  <style>\n",
              "    .colab-df-container {\n",
              "      display:flex;\n",
              "      flex-wrap:wrap;\n",
              "      gap: 12px;\n",
              "    }\n",
              "\n",
              "    .colab-df-convert {\n",
              "      background-color: #E8F0FE;\n",
              "      border: none;\n",
              "      border-radius: 50%;\n",
              "      cursor: pointer;\n",
              "      display: none;\n",
              "      fill: #1967D2;\n",
              "      height: 32px;\n",
              "      padding: 0 0 0 0;\n",
              "      width: 32px;\n",
              "    }\n",
              "\n",
              "    .colab-df-convert:hover {\n",
              "      background-color: #E2EBFA;\n",
              "      box-shadow: 0px 1px 2px rgba(60, 64, 67, 0.3), 0px 1px 3px 1px rgba(60, 64, 67, 0.15);\n",
              "      fill: #174EA6;\n",
              "    }\n",
              "\n",
              "    [theme=dark] .colab-df-convert {\n",
              "      background-color: #3B4455;\n",
              "      fill: #D2E3FC;\n",
              "    }\n",
              "\n",
              "    [theme=dark] .colab-df-convert:hover {\n",
              "      background-color: #434B5C;\n",
              "      box-shadow: 0px 1px 3px 1px rgba(0, 0, 0, 0.15);\n",
              "      filter: drop-shadow(0px 1px 2px rgba(0, 0, 0, 0.3));\n",
              "      fill: #FFFFFF;\n",
              "    }\n",
              "  </style>\n",
              "\n",
              "      <script>\n",
              "        const buttonEl =\n",
              "          document.querySelector('#df-f816370b-133b-443f-ae5e-871b61d3b442 button.colab-df-convert');\n",
              "        buttonEl.style.display =\n",
              "          google.colab.kernel.accessAllowed ? 'block' : 'none';\n",
              "\n",
              "        async function convertToInteractive(key) {\n",
              "          const element = document.querySelector('#df-f816370b-133b-443f-ae5e-871b61d3b442');\n",
              "          const dataTable =\n",
              "            await google.colab.kernel.invokeFunction('convertToInteractive',\n",
              "                                                     [key], {});\n",
              "          if (!dataTable) return;\n",
              "\n",
              "          const docLinkHtml = 'Like what you see? Visit the ' +\n",
              "            '<a target=\"_blank\" href=https://colab.research.google.com/notebooks/data_table.ipynb>data table notebook</a>'\n",
              "            + ' to learn more about interactive tables.';\n",
              "          element.innerHTML = '';\n",
              "          dataTable['output_type'] = 'display_data';\n",
              "          await google.colab.output.renderOutput(dataTable, element);\n",
              "          const docLink = document.createElement('div');\n",
              "          docLink.innerHTML = docLinkHtml;\n",
              "          element.appendChild(docLink);\n",
              "        }\n",
              "      </script>\n",
              "    </div>\n",
              "  </div>\n",
              "  "
            ]
          },
          "metadata": {},
          "execution_count": 14
        }
      ]
    },
    {
      "cell_type": "code",
      "source": [
        "CA_08df.greenhouse_gas_score.unique()"
      ],
      "metadata": {
        "id": "HrNPsADuo-yQ",
        "outputId": "2fee719f-0e6e-4719-a5a3-228202f2dce0",
        "colab": {
          "base_uri": "https://localhost:8080/"
        }
      },
      "execution_count": null,
      "outputs": [
        {
          "output_type": "execute_result",
          "data": {
            "text/plain": [
              "array(['4', '5', '6', '7', '0', '1', '3', '2', '8', '9', '10', '7/6'],\n",
              "      dtype=object)"
            ]
          },
          "metadata": {},
          "execution_count": 51
        }
      ]
    },
    {
      "cell_type": "code",
      "source": [
        "CA_18df.greenhouse_gas_score.unique()"
      ],
      "metadata": {
        "id": "NKMqYChyystH",
        "outputId": "5cb71942-ee3a-4054-827a-eb9fc5349157",
        "colab": {
          "base_uri": "https://localhost:8080/"
        }
      },
      "execution_count": null,
      "outputs": [
        {
          "output_type": "execute_result",
          "data": {
            "text/plain": [
              "array([ 5,  4,  6,  7,  2,  1, 10,  3,  9,  8])"
            ]
          },
          "metadata": {},
          "execution_count": 52
        }
      ]
    },
    {
      "cell_type": "code",
      "source": [
        "# CA_08df.drop(CA_08df.loc[CA_08df['hwy_mpg']=='19/25'].index, inplace=True)"
      ],
      "metadata": {
        "id": "0FXl3JNSphsS"
      },
      "execution_count": null,
      "outputs": []
    },
    {
      "cell_type": "code",
      "source": [
        "CA_08df.air_pollution_score.nunique()"
      ],
      "metadata": {
        "id": "AXKi0pOFwan9",
        "outputId": "cc7e6e1b-6683-4759-9c48-0ef5cc50580a",
        "colab": {
          "base_uri": "https://localhost:8080/"
        }
      },
      "execution_count": null,
      "outputs": [
        {
          "output_type": "execute_result",
          "data": {
            "text/plain": [
              "5"
            ]
          },
          "metadata": {},
          "execution_count": 39
        }
      ]
    },
    {
      "cell_type": "code",
      "source": [
        "CA_18df.air_pollution_score.unique()"
      ],
      "metadata": {
        "id": "xIYy46gSwoNO",
        "outputId": "26792ba9-7268-45c9-f51b-785731edf568",
        "colab": {
          "base_uri": "https://localhost:8080/"
        }
      },
      "execution_count": null,
      "outputs": [
        {
          "output_type": "execute_result",
          "data": {
            "text/plain": [
              "array([ 3,  1,  7,  5,  6, 10])"
            ]
          },
          "metadata": {},
          "execution_count": 40
        }
      ]
    },
    {
      "cell_type": "code",
      "source": [
        "CA_08df.dtypes"
      ],
      "metadata": {
        "id": "WywXCQ1TwxI4",
        "outputId": "e490c7aa-3bed-485e-b519-4eb8b214cc04",
        "colab": {
          "base_uri": "https://localhost:8080/"
        }
      },
      "execution_count": null,
      "outputs": [
        {
          "output_type": "execute_result",
          "data": {
            "text/plain": [
              "model                    object\n",
              "displ                   float64\n",
              "cyl                       int32\n",
              "trans                    object\n",
              "drive                    object\n",
              "fuel                     object\n",
              "cert_region              object\n",
              "veh_class                object\n",
              "air_pollution_score      object\n",
              "city_mpg                 object\n",
              "hwy_mpg                  object\n",
              "cmb_mpg                  object\n",
              "greenhouse_gas_score     object\n",
              "smartway                 object\n",
              "dtype: object"
            ]
          },
          "metadata": {},
          "execution_count": 41
        }
      ]
    },
    {
      "cell_type": "code",
      "source": [
        "CA_18df.dtypes"
      ],
      "metadata": {
        "id": "T3FKk-LKw-vW",
        "outputId": "1dfdfd05-f119-46b6-9d5e-fa7913c27754",
        "colab": {
          "base_uri": "https://localhost:8080/"
        }
      },
      "execution_count": null,
      "outputs": [
        {
          "output_type": "execute_result",
          "data": {
            "text/plain": [
              "model                    object\n",
              "displ                   float64\n",
              "cyl                     float64\n",
              "trans                    object\n",
              "drive                    object\n",
              "fuel                     object\n",
              "cert_region              object\n",
              "veh_class                object\n",
              "air_pollution_score       int64\n",
              "city_mpg                 object\n",
              "hwy_mpg                  object\n",
              "cmb_mpg                  object\n",
              "greenhouse_gas_score      int64\n",
              "smartway                 object\n",
              "dtype: object"
            ]
          },
          "metadata": {},
          "execution_count": 42
        }
      ]
    },
    {
      "cell_type": "code",
      "source": [
        "CA_08df.cyl.value_counts()"
      ],
      "metadata": {
        "id": "dUJLg6MmyXSa",
        "outputId": "81ab7eba-4a5f-4187-daa0-57ee3fbac3ca",
        "colab": {
          "base_uri": "https://localhost:8080/"
        }
      },
      "execution_count": null,
      "outputs": [
        {
          "output_type": "execute_result",
          "data": {
            "text/plain": [
              "6     409\n",
              "4     283\n",
              "8     199\n",
              "5      48\n",
              "12     30\n",
              "10     14\n",
              "2       2\n",
              "16      1\n",
              "Name: cyl, dtype: int64"
            ]
          },
          "metadata": {},
          "execution_count": 54
        }
      ]
    },
    {
      "cell_type": "code",
      "source": [
        ""
      ],
      "metadata": {
        "id": "J-GoD_Xm4fZX"
      },
      "execution_count": null,
      "outputs": []
    },
    {
      "cell_type": "markdown",
      "source": [
        "# **Fixing air_pollution_score Data Type**\n",
        "\n",
        "\n",
        "It's not just the air pollution score!\n",
        "\n",
        "The mpg columns and greenhouse gas scores also seem to have the same problem - maybe that's why these were all saved as strings! According to this link, which I found from the PDF documentation:\n",
        "\n",
        "\"If a vehicle can operate on more than one type of fuel, an estimate is provided for each fuel type.\"\n",
        "\n",
        "Ohh... so all vehicles with more than one fuel type, or hybrids, like the one above (it uses ethanol AND gas) will have a string that holds two values - one for each. \n",
        "The procedure is first done CA_08df."
      ],
      "metadata": {
        "id": "X_GLvAw34q0A"
      }
    },
    {
      "cell_type": "code",
      "source": [
        "CA_08df.air_pollution_score.unique()"
      ],
      "metadata": {
        "id": "Giy2hZLu4wsa",
        "outputId": "7ccf78b6-506e-4a51-8735-098c2fd23bed",
        "colab": {
          "base_uri": "https://localhost:8080/"
        }
      },
      "execution_count": null,
      "outputs": [
        {
          "output_type": "execute_result",
          "data": {
            "text/plain": [
              "array(['7', '6', '9.5', '9', '6/4'], dtype=object)"
            ]
          },
          "metadata": {},
          "execution_count": 55
        }
      ]
    },
    {
      "cell_type": "code",
      "source": [
        "CA_18df.air_pollution_score.unique()"
      ],
      "metadata": {
        "id": "Aj8F2abW4-I_",
        "outputId": "ab770955-d98b-4e30-a263-a80896a4111b",
        "colab": {
          "base_uri": "https://localhost:8080/"
        }
      },
      "execution_count": null,
      "outputs": [
        {
          "output_type": "execute_result",
          "data": {
            "text/plain": [
              "array([ 3,  1,  7,  5,  6, 10])"
            ]
          },
          "metadata": {},
          "execution_count": 56
        }
      ]
    },
    {
      "cell_type": "code",
      "source": [
        "hb08 = CA_08df[CA_08df.fuel.str.contains('/')]\n",
        "hb08"
      ],
      "metadata": {
        "id": "nPaJmEqX5CB5",
        "outputId": "0b641ca2-31d1-4f36-efe4-6a59425b0d29",
        "colab": {
          "base_uri": "https://localhost:8080/",
          "height": 162
        }
      },
      "execution_count": 15,
      "outputs": [
        {
          "output_type": "execute_result",
          "data": {
            "text/plain": [
              "                   model  displ  cyl    trans drive         fuel cert_region  \\\n",
              "1550  MERCEDES-BENZ C300    3.0    6  Auto-L7   2WD  ethanol/gas          CA   \n",
              "\n",
              "      veh_class air_pollution_score city_mpg hwy_mpg cmb_mpg  \\\n",
              "1550  small car                 6/4    13/18   19/25   15/21   \n",
              "\n",
              "     greenhouse_gas_score smartway  \n",
              "1550                  7/6       no  "
            ],
            "text/html": [
              "\n",
              "  <div id=\"df-da2fb6fc-06ee-4fc4-b5dc-a7372eb608a9\">\n",
              "    <div class=\"colab-df-container\">\n",
              "      <div>\n",
              "<style scoped>\n",
              "    .dataframe tbody tr th:only-of-type {\n",
              "        vertical-align: middle;\n",
              "    }\n",
              "\n",
              "    .dataframe tbody tr th {\n",
              "        vertical-align: top;\n",
              "    }\n",
              "\n",
              "    .dataframe thead th {\n",
              "        text-align: right;\n",
              "    }\n",
              "</style>\n",
              "<table border=\"1\" class=\"dataframe\">\n",
              "  <thead>\n",
              "    <tr style=\"text-align: right;\">\n",
              "      <th></th>\n",
              "      <th>model</th>\n",
              "      <th>displ</th>\n",
              "      <th>cyl</th>\n",
              "      <th>trans</th>\n",
              "      <th>drive</th>\n",
              "      <th>fuel</th>\n",
              "      <th>cert_region</th>\n",
              "      <th>veh_class</th>\n",
              "      <th>air_pollution_score</th>\n",
              "      <th>city_mpg</th>\n",
              "      <th>hwy_mpg</th>\n",
              "      <th>cmb_mpg</th>\n",
              "      <th>greenhouse_gas_score</th>\n",
              "      <th>smartway</th>\n",
              "    </tr>\n",
              "  </thead>\n",
              "  <tbody>\n",
              "    <tr>\n",
              "      <th>1550</th>\n",
              "      <td>MERCEDES-BENZ C300</td>\n",
              "      <td>3.0</td>\n",
              "      <td>6</td>\n",
              "      <td>Auto-L7</td>\n",
              "      <td>2WD</td>\n",
              "      <td>ethanol/gas</td>\n",
              "      <td>CA</td>\n",
              "      <td>small car</td>\n",
              "      <td>6/4</td>\n",
              "      <td>13/18</td>\n",
              "      <td>19/25</td>\n",
              "      <td>15/21</td>\n",
              "      <td>7/6</td>\n",
              "      <td>no</td>\n",
              "    </tr>\n",
              "  </tbody>\n",
              "</table>\n",
              "</div>\n",
              "      <button class=\"colab-df-convert\" onclick=\"convertToInteractive('df-da2fb6fc-06ee-4fc4-b5dc-a7372eb608a9')\"\n",
              "              title=\"Convert this dataframe to an interactive table.\"\n",
              "              style=\"display:none;\">\n",
              "        \n",
              "  <svg xmlns=\"http://www.w3.org/2000/svg\" height=\"24px\"viewBox=\"0 0 24 24\"\n",
              "       width=\"24px\">\n",
              "    <path d=\"M0 0h24v24H0V0z\" fill=\"none\"/>\n",
              "    <path d=\"M18.56 5.44l.94 2.06.94-2.06 2.06-.94-2.06-.94-.94-2.06-.94 2.06-2.06.94zm-11 1L8.5 8.5l.94-2.06 2.06-.94-2.06-.94L8.5 2.5l-.94 2.06-2.06.94zm10 10l.94 2.06.94-2.06 2.06-.94-2.06-.94-.94-2.06-.94 2.06-2.06.94z\"/><path d=\"M17.41 7.96l-1.37-1.37c-.4-.4-.92-.59-1.43-.59-.52 0-1.04.2-1.43.59L10.3 9.45l-7.72 7.72c-.78.78-.78 2.05 0 2.83L4 21.41c.39.39.9.59 1.41.59.51 0 1.02-.2 1.41-.59l7.78-7.78 2.81-2.81c.8-.78.8-2.07 0-2.86zM5.41 20L4 18.59l7.72-7.72 1.47 1.35L5.41 20z\"/>\n",
              "  </svg>\n",
              "      </button>\n",
              "      \n",
              "  <style>\n",
              "    .colab-df-container {\n",
              "      display:flex;\n",
              "      flex-wrap:wrap;\n",
              "      gap: 12px;\n",
              "    }\n",
              "\n",
              "    .colab-df-convert {\n",
              "      background-color: #E8F0FE;\n",
              "      border: none;\n",
              "      border-radius: 50%;\n",
              "      cursor: pointer;\n",
              "      display: none;\n",
              "      fill: #1967D2;\n",
              "      height: 32px;\n",
              "      padding: 0 0 0 0;\n",
              "      width: 32px;\n",
              "    }\n",
              "\n",
              "    .colab-df-convert:hover {\n",
              "      background-color: #E2EBFA;\n",
              "      box-shadow: 0px 1px 2px rgba(60, 64, 67, 0.3), 0px 1px 3px 1px rgba(60, 64, 67, 0.15);\n",
              "      fill: #174EA6;\n",
              "    }\n",
              "\n",
              "    [theme=dark] .colab-df-convert {\n",
              "      background-color: #3B4455;\n",
              "      fill: #D2E3FC;\n",
              "    }\n",
              "\n",
              "    [theme=dark] .colab-df-convert:hover {\n",
              "      background-color: #434B5C;\n",
              "      box-shadow: 0px 1px 3px 1px rgba(0, 0, 0, 0.15);\n",
              "      filter: drop-shadow(0px 1px 2px rgba(0, 0, 0, 0.3));\n",
              "      fill: #FFFFFF;\n",
              "    }\n",
              "  </style>\n",
              "\n",
              "      <script>\n",
              "        const buttonEl =\n",
              "          document.querySelector('#df-da2fb6fc-06ee-4fc4-b5dc-a7372eb608a9 button.colab-df-convert');\n",
              "        buttonEl.style.display =\n",
              "          google.colab.kernel.accessAllowed ? 'block' : 'none';\n",
              "\n",
              "        async function convertToInteractive(key) {\n",
              "          const element = document.querySelector('#df-da2fb6fc-06ee-4fc4-b5dc-a7372eb608a9');\n",
              "          const dataTable =\n",
              "            await google.colab.kernel.invokeFunction('convertToInteractive',\n",
              "                                                     [key], {});\n",
              "          if (!dataTable) return;\n",
              "\n",
              "          const docLinkHtml = 'Like what you see? Visit the ' +\n",
              "            '<a target=\"_blank\" href=https://colab.research.google.com/notebooks/data_table.ipynb>data table notebook</a>'\n",
              "            + ' to learn more about interactive tables.';\n",
              "          element.innerHTML = '';\n",
              "          dataTable['output_type'] = 'display_data';\n",
              "          await google.colab.output.renderOutput(dataTable, element);\n",
              "          const docLink = document.createElement('div');\n",
              "          docLink.innerHTML = docLinkHtml;\n",
              "          element.appendChild(docLink);\n",
              "        }\n",
              "      </script>\n",
              "    </div>\n",
              "  </div>\n",
              "  "
            ]
          },
          "metadata": {},
          "execution_count": 15
        }
      ]
    },
    {
      "cell_type": "code",
      "source": [
        "hb18 = CA_18df[CA_18df.fuel.str.contains('/')]\n",
        "hb18"
      ],
      "metadata": {
        "id": "4USCYJSf6V9p",
        "colab": {
          "base_uri": "https://localhost:8080/",
          "height": 1000
        },
        "outputId": "b6737f86-ab73-4b01-8463-cef56fc65b61"
      },
      "execution_count": 16,
      "outputs": [
        {
          "output_type": "execute_result",
          "data": {
            "text/plain": [
              "                                  model  displ  cyl       trans drive  \\\n",
              "108                            BMW 330e    2.0  4.0  SemiAuto-8   2WD   \n",
              "160                            BMW 530e    2.0  4.0  SemiAuto-8   2WD   \n",
              "162                            BMW 530e    2.0  4.0  SemiAuto-8   4WD   \n",
              "188                            BMW 740e    2.0  4.0  SemiAuto-8   4WD   \n",
              "382                    CHEVROLET Impala    3.6  6.0  SemiAuto-6   2WD   \n",
              "394              CHEVROLET Silverado 15    4.3  6.0      Auto-6   2WD   \n",
              "396              CHEVROLET Silverado 15    4.3  6.0      Auto-6   4WD   \n",
              "398              CHEVROLET Silverado 15    5.3  8.0      Auto-6   2WD   \n",
              "428             CHEVROLET Suburban 1500    5.3  8.0      Auto-6   2WD   \n",
              "432             CHEVROLET Suburban 1500    5.3  8.0      Auto-6   4WD   \n",
              "436                CHEVROLET Tahoe 1500    5.3  8.0      Auto-6   2WD   \n",
              "440                CHEVROLET Tahoe 1500    5.3  8.0      Auto-6   4WD   \n",
              "454                      CHEVROLET Volt    1.5  4.0         CVT   2WD   \n",
              "456                      CHEVROLET Volt    1.5  4.0         CVT   2WD   \n",
              "458                        CHRYSLER 300    3.6  6.0      Auto-8   2WD   \n",
              "462                        CHRYSLER 300    3.6  6.0      Auto-8   4WD   \n",
              "492                       DODGE Charger    3.6  6.0      Auto-8   2WD   \n",
              "496                       DODGE Charger    3.6  6.0      Auto-8   4WD   \n",
              "605   FORD Fusion Energi Plug-in Hybrid    2.0  4.0         CVT   2WD   \n",
              "659                       GMC Sierra 15    4.3  6.0      Auto-6   2WD   \n",
              "661                       GMC Sierra 15    4.3  6.0      Auto-6   4WD   \n",
              "663                       GMC Sierra 15    5.3  8.0      Auto-6   2WD   \n",
              "697                      GMC Yukon 1500    5.3  8.0      Auto-6   2WD   \n",
              "701                      GMC Yukon 1500    5.3  8.0      Auto-6   4WD   \n",
              "709                   GMC Yukon 1500 XL    5.3  8.0      Auto-6   2WD   \n",
              "715                   GMC Yukon XL 1500    5.3  8.0      Auto-6   4WD   \n",
              "892                       JEEP Cherokee    2.4  4.0      Auto-9   2WD   \n",
              "896                       JEEP Cherokee    2.4  4.0      Auto-9   4WD   \n",
              "933                        KARMA Revero    2.0  4.0      Auto-1   2WD   \n",
              "1162        MERCEDES-BENZ CLA250 4Matic    2.0  4.0   AutoMan-7   4WD   \n",
              "1179        MERCEDES-BENZ GLA250 4Matic    2.0  4.0   AutoMan-7   4WD   \n",
              "1192        MERCEDES-BENZ GLE350 4Matic    3.5  6.0      Auto-7   4WD   \n",
              "1256     MINI Cooper SE Countryman All4    1.5  3.0  SemiAuto-6   4WD   \n",
              "1507                 TOYOTA Sequoia FFV    5.7  8.0  SemiAuto-6   4WD   \n",
              "1517                  TOYOTA Tundra FFV    5.7  8.0  SemiAuto-6   4WD   \n",
              "1577                          VOLVO S90    2.0  4.0  SemiAuto-8   4WD   \n",
              "1601                        VOLVO XC 60    2.0  4.0  SemiAuto-8   4WD   \n",
              "1609                        VOLVO XC 90    2.0  4.0  SemiAuto-8   4WD   \n",
              "\n",
              "                      fuel cert_region     veh_class  air_pollution_score  \\\n",
              "108   Gasoline/Electricity          CA     small car                    3   \n",
              "160   Gasoline/Electricity          CA     small car                    7   \n",
              "162   Gasoline/Electricity          CA     small car                    7   \n",
              "188   Gasoline/Electricity          CA     large car                    3   \n",
              "382            Ethanol/Gas          CA     large car                    5   \n",
              "394            Ethanol/Gas          CA        pickup                    5   \n",
              "396            Ethanol/Gas          CA        pickup                    5   \n",
              "398            Ethanol/Gas          CA        pickup                    3   \n",
              "428            Ethanol/Gas          CA  standard SUV                    3   \n",
              "432            Ethanol/Gas          CA  standard SUV                    3   \n",
              "436            Ethanol/Gas          CA  standard SUV                    3   \n",
              "440            Ethanol/Gas          CA  standard SUV                    3   \n",
              "454   Gasoline/Electricity          CA     small car                    3   \n",
              "456   Gasoline/Electricity          CA     small car                    7   \n",
              "458            Ethanol/Gas          CA     large car                    3   \n",
              "462            Ethanol/Gas          CA     large car                    3   \n",
              "492            Ethanol/Gas          CA     large car                    3   \n",
              "496            Ethanol/Gas          CA     large car                    3   \n",
              "605   Gasoline/Electricity          CA   midsize car                    7   \n",
              "659            Ethanol/Gas          CA        pickup                    5   \n",
              "661            Ethanol/Gas          CA        pickup                    5   \n",
              "663            Ethanol/Gas          CA        pickup                    3   \n",
              "697            Ethanol/Gas          CA  standard SUV                    3   \n",
              "701            Ethanol/Gas          CA  standard SUV                    3   \n",
              "709            Ethanol/Gas          CA  standard SUV                    3   \n",
              "715            Ethanol/Gas          CA  standard SUV                    3   \n",
              "892            Ethanol/Gas          CA     small SUV                    3   \n",
              "896            Ethanol/Gas          CA     small SUV                    3   \n",
              "933   Gasoline/Electricity          CA     small car                    1   \n",
              "1162           Ethanol/Gas          CA     small car                    5   \n",
              "1179           Ethanol/Gas          CA     small SUV                    5   \n",
              "1192           Ethanol/Gas          CA  standard SUV                    3   \n",
              "1256  Gasoline/Electricity          CA   midsize car                    3   \n",
              "1507           Ethanol/Gas          CA  standard SUV                    5   \n",
              "1517           Ethanol/Gas          CA        pickup                    5   \n",
              "1577  Gasoline/Electricity          CA   midsize car                    7   \n",
              "1601  Gasoline/Electricity          CA     small SUV                    7   \n",
              "1609  Gasoline/Electricity          CA  standard SUV                    7   \n",
              "\n",
              "     city_mpg hwy_mpg cmb_mpg  greenhouse_gas_score smartway  \n",
              "108     28/66   34/78   30/71                    10      Yes  \n",
              "160     27/70   31/75   29/72                    10    Elite  \n",
              "162     27/66   31/68   28/67                    10    Elite  \n",
              "188     25/62   29/68   27/64                     9      Yes  \n",
              "382     14/18   20/28   16/22                     4       No  \n",
              "394     12/18   16/24   14/20                     4       No  \n",
              "396     12/17   15/22   13/19                     3       No  \n",
              "398     12/16   17/23   14/19                     3       No  \n",
              "428     12/16   17/23   14/19                     3       No  \n",
              "432     11/16   15/22   12/18                     3       No  \n",
              "436     12/16   17/23   14/19                     3       No  \n",
              "440     11/16   16/22   13/18                     3       No  \n",
              "454    43/113   42/99  42/106                    10      Yes  \n",
              "456    43/113   42/99  42/106                    10    Elite  \n",
              "458     14/19   22/30   17/23                     5       No  \n",
              "462     13/18   20/27   16/21                     4       No  \n",
              "492     14/19   22/30   17/23                     5       No  \n",
              "496     13/18   20/27   16/21                     4       No  \n",
              "605    43/102   41/91   42/97                    10    Elite  \n",
              "659     12/18   16/24   14/20                     4       No  \n",
              "661     12/17   15/22   13/19                     3       No  \n",
              "663     12/16   17/23   14/19                     3       No  \n",
              "697     12/16   17/23   14/19                     3       No  \n",
              "701     11/16   16/22   13/18                     3       No  \n",
              "709     12/16   17/23   14/19                     3       No  \n",
              "715     11/16   15/22   12/18                     3       No  \n",
              "892     15/21   22/30   18/25                     5       No  \n",
              "896     14/21   21/28   17/23                     5       No  \n",
              "933     20/59   21/61   20/60                    10       No  \n",
              "1162    17/24   24/32   20/27                     6       No  \n",
              "1179    17/23   23/31   19/26                     5       No  \n",
              "1192    13/18   17/22   14/19                     3       No  \n",
              "1256    28/63   27/66   27/65                     9      Yes  \n",
              "1507     9/13   13/17   10/14                     1       No  \n",
              "1517     9/13   12/17   10/15                     2       No  \n",
              "1577    26/70   33/72   29/71                    10    Elite  \n",
              "1601    26/60   28/58   26/59                    10    Elite  \n",
              "1609    26/63   30/61   27/62                    10    Elite  "
            ],
            "text/html": [
              "\n",
              "  <div id=\"df-3217cf1f-ba23-430a-b7e2-77e54b0277ae\">\n",
              "    <div class=\"colab-df-container\">\n",
              "      <div>\n",
              "<style scoped>\n",
              "    .dataframe tbody tr th:only-of-type {\n",
              "        vertical-align: middle;\n",
              "    }\n",
              "\n",
              "    .dataframe tbody tr th {\n",
              "        vertical-align: top;\n",
              "    }\n",
              "\n",
              "    .dataframe thead th {\n",
              "        text-align: right;\n",
              "    }\n",
              "</style>\n",
              "<table border=\"1\" class=\"dataframe\">\n",
              "  <thead>\n",
              "    <tr style=\"text-align: right;\">\n",
              "      <th></th>\n",
              "      <th>model</th>\n",
              "      <th>displ</th>\n",
              "      <th>cyl</th>\n",
              "      <th>trans</th>\n",
              "      <th>drive</th>\n",
              "      <th>fuel</th>\n",
              "      <th>cert_region</th>\n",
              "      <th>veh_class</th>\n",
              "      <th>air_pollution_score</th>\n",
              "      <th>city_mpg</th>\n",
              "      <th>hwy_mpg</th>\n",
              "      <th>cmb_mpg</th>\n",
              "      <th>greenhouse_gas_score</th>\n",
              "      <th>smartway</th>\n",
              "    </tr>\n",
              "  </thead>\n",
              "  <tbody>\n",
              "    <tr>\n",
              "      <th>108</th>\n",
              "      <td>BMW 330e</td>\n",
              "      <td>2.0</td>\n",
              "      <td>4.0</td>\n",
              "      <td>SemiAuto-8</td>\n",
              "      <td>2WD</td>\n",
              "      <td>Gasoline/Electricity</td>\n",
              "      <td>CA</td>\n",
              "      <td>small car</td>\n",
              "      <td>3</td>\n",
              "      <td>28/66</td>\n",
              "      <td>34/78</td>\n",
              "      <td>30/71</td>\n",
              "      <td>10</td>\n",
              "      <td>Yes</td>\n",
              "    </tr>\n",
              "    <tr>\n",
              "      <th>160</th>\n",
              "      <td>BMW 530e</td>\n",
              "      <td>2.0</td>\n",
              "      <td>4.0</td>\n",
              "      <td>SemiAuto-8</td>\n",
              "      <td>2WD</td>\n",
              "      <td>Gasoline/Electricity</td>\n",
              "      <td>CA</td>\n",
              "      <td>small car</td>\n",
              "      <td>7</td>\n",
              "      <td>27/70</td>\n",
              "      <td>31/75</td>\n",
              "      <td>29/72</td>\n",
              "      <td>10</td>\n",
              "      <td>Elite</td>\n",
              "    </tr>\n",
              "    <tr>\n",
              "      <th>162</th>\n",
              "      <td>BMW 530e</td>\n",
              "      <td>2.0</td>\n",
              "      <td>4.0</td>\n",
              "      <td>SemiAuto-8</td>\n",
              "      <td>4WD</td>\n",
              "      <td>Gasoline/Electricity</td>\n",
              "      <td>CA</td>\n",
              "      <td>small car</td>\n",
              "      <td>7</td>\n",
              "      <td>27/66</td>\n",
              "      <td>31/68</td>\n",
              "      <td>28/67</td>\n",
              "      <td>10</td>\n",
              "      <td>Elite</td>\n",
              "    </tr>\n",
              "    <tr>\n",
              "      <th>188</th>\n",
              "      <td>BMW 740e</td>\n",
              "      <td>2.0</td>\n",
              "      <td>4.0</td>\n",
              "      <td>SemiAuto-8</td>\n",
              "      <td>4WD</td>\n",
              "      <td>Gasoline/Electricity</td>\n",
              "      <td>CA</td>\n",
              "      <td>large car</td>\n",
              "      <td>3</td>\n",
              "      <td>25/62</td>\n",
              "      <td>29/68</td>\n",
              "      <td>27/64</td>\n",
              "      <td>9</td>\n",
              "      <td>Yes</td>\n",
              "    </tr>\n",
              "    <tr>\n",
              "      <th>382</th>\n",
              "      <td>CHEVROLET Impala</td>\n",
              "      <td>3.6</td>\n",
              "      <td>6.0</td>\n",
              "      <td>SemiAuto-6</td>\n",
              "      <td>2WD</td>\n",
              "      <td>Ethanol/Gas</td>\n",
              "      <td>CA</td>\n",
              "      <td>large car</td>\n",
              "      <td>5</td>\n",
              "      <td>14/18</td>\n",
              "      <td>20/28</td>\n",
              "      <td>16/22</td>\n",
              "      <td>4</td>\n",
              "      <td>No</td>\n",
              "    </tr>\n",
              "    <tr>\n",
              "      <th>394</th>\n",
              "      <td>CHEVROLET Silverado 15</td>\n",
              "      <td>4.3</td>\n",
              "      <td>6.0</td>\n",
              "      <td>Auto-6</td>\n",
              "      <td>2WD</td>\n",
              "      <td>Ethanol/Gas</td>\n",
              "      <td>CA</td>\n",
              "      <td>pickup</td>\n",
              "      <td>5</td>\n",
              "      <td>12/18</td>\n",
              "      <td>16/24</td>\n",
              "      <td>14/20</td>\n",
              "      <td>4</td>\n",
              "      <td>No</td>\n",
              "    </tr>\n",
              "    <tr>\n",
              "      <th>396</th>\n",
              "      <td>CHEVROLET Silverado 15</td>\n",
              "      <td>4.3</td>\n",
              "      <td>6.0</td>\n",
              "      <td>Auto-6</td>\n",
              "      <td>4WD</td>\n",
              "      <td>Ethanol/Gas</td>\n",
              "      <td>CA</td>\n",
              "      <td>pickup</td>\n",
              "      <td>5</td>\n",
              "      <td>12/17</td>\n",
              "      <td>15/22</td>\n",
              "      <td>13/19</td>\n",
              "      <td>3</td>\n",
              "      <td>No</td>\n",
              "    </tr>\n",
              "    <tr>\n",
              "      <th>398</th>\n",
              "      <td>CHEVROLET Silverado 15</td>\n",
              "      <td>5.3</td>\n",
              "      <td>8.0</td>\n",
              "      <td>Auto-6</td>\n",
              "      <td>2WD</td>\n",
              "      <td>Ethanol/Gas</td>\n",
              "      <td>CA</td>\n",
              "      <td>pickup</td>\n",
              "      <td>3</td>\n",
              "      <td>12/16</td>\n",
              "      <td>17/23</td>\n",
              "      <td>14/19</td>\n",
              "      <td>3</td>\n",
              "      <td>No</td>\n",
              "    </tr>\n",
              "    <tr>\n",
              "      <th>428</th>\n",
              "      <td>CHEVROLET Suburban 1500</td>\n",
              "      <td>5.3</td>\n",
              "      <td>8.0</td>\n",
              "      <td>Auto-6</td>\n",
              "      <td>2WD</td>\n",
              "      <td>Ethanol/Gas</td>\n",
              "      <td>CA</td>\n",
              "      <td>standard SUV</td>\n",
              "      <td>3</td>\n",
              "      <td>12/16</td>\n",
              "      <td>17/23</td>\n",
              "      <td>14/19</td>\n",
              "      <td>3</td>\n",
              "      <td>No</td>\n",
              "    </tr>\n",
              "    <tr>\n",
              "      <th>432</th>\n",
              "      <td>CHEVROLET Suburban 1500</td>\n",
              "      <td>5.3</td>\n",
              "      <td>8.0</td>\n",
              "      <td>Auto-6</td>\n",
              "      <td>4WD</td>\n",
              "      <td>Ethanol/Gas</td>\n",
              "      <td>CA</td>\n",
              "      <td>standard SUV</td>\n",
              "      <td>3</td>\n",
              "      <td>11/16</td>\n",
              "      <td>15/22</td>\n",
              "      <td>12/18</td>\n",
              "      <td>3</td>\n",
              "      <td>No</td>\n",
              "    </tr>\n",
              "    <tr>\n",
              "      <th>436</th>\n",
              "      <td>CHEVROLET Tahoe 1500</td>\n",
              "      <td>5.3</td>\n",
              "      <td>8.0</td>\n",
              "      <td>Auto-6</td>\n",
              "      <td>2WD</td>\n",
              "      <td>Ethanol/Gas</td>\n",
              "      <td>CA</td>\n",
              "      <td>standard SUV</td>\n",
              "      <td>3</td>\n",
              "      <td>12/16</td>\n",
              "      <td>17/23</td>\n",
              "      <td>14/19</td>\n",
              "      <td>3</td>\n",
              "      <td>No</td>\n",
              "    </tr>\n",
              "    <tr>\n",
              "      <th>440</th>\n",
              "      <td>CHEVROLET Tahoe 1500</td>\n",
              "      <td>5.3</td>\n",
              "      <td>8.0</td>\n",
              "      <td>Auto-6</td>\n",
              "      <td>4WD</td>\n",
              "      <td>Ethanol/Gas</td>\n",
              "      <td>CA</td>\n",
              "      <td>standard SUV</td>\n",
              "      <td>3</td>\n",
              "      <td>11/16</td>\n",
              "      <td>16/22</td>\n",
              "      <td>13/18</td>\n",
              "      <td>3</td>\n",
              "      <td>No</td>\n",
              "    </tr>\n",
              "    <tr>\n",
              "      <th>454</th>\n",
              "      <td>CHEVROLET Volt</td>\n",
              "      <td>1.5</td>\n",
              "      <td>4.0</td>\n",
              "      <td>CVT</td>\n",
              "      <td>2WD</td>\n",
              "      <td>Gasoline/Electricity</td>\n",
              "      <td>CA</td>\n",
              "      <td>small car</td>\n",
              "      <td>3</td>\n",
              "      <td>43/113</td>\n",
              "      <td>42/99</td>\n",
              "      <td>42/106</td>\n",
              "      <td>10</td>\n",
              "      <td>Yes</td>\n",
              "    </tr>\n",
              "    <tr>\n",
              "      <th>456</th>\n",
              "      <td>CHEVROLET Volt</td>\n",
              "      <td>1.5</td>\n",
              "      <td>4.0</td>\n",
              "      <td>CVT</td>\n",
              "      <td>2WD</td>\n",
              "      <td>Gasoline/Electricity</td>\n",
              "      <td>CA</td>\n",
              "      <td>small car</td>\n",
              "      <td>7</td>\n",
              "      <td>43/113</td>\n",
              "      <td>42/99</td>\n",
              "      <td>42/106</td>\n",
              "      <td>10</td>\n",
              "      <td>Elite</td>\n",
              "    </tr>\n",
              "    <tr>\n",
              "      <th>458</th>\n",
              "      <td>CHRYSLER 300</td>\n",
              "      <td>3.6</td>\n",
              "      <td>6.0</td>\n",
              "      <td>Auto-8</td>\n",
              "      <td>2WD</td>\n",
              "      <td>Ethanol/Gas</td>\n",
              "      <td>CA</td>\n",
              "      <td>large car</td>\n",
              "      <td>3</td>\n",
              "      <td>14/19</td>\n",
              "      <td>22/30</td>\n",
              "      <td>17/23</td>\n",
              "      <td>5</td>\n",
              "      <td>No</td>\n",
              "    </tr>\n",
              "    <tr>\n",
              "      <th>462</th>\n",
              "      <td>CHRYSLER 300</td>\n",
              "      <td>3.6</td>\n",
              "      <td>6.0</td>\n",
              "      <td>Auto-8</td>\n",
              "      <td>4WD</td>\n",
              "      <td>Ethanol/Gas</td>\n",
              "      <td>CA</td>\n",
              "      <td>large car</td>\n",
              "      <td>3</td>\n",
              "      <td>13/18</td>\n",
              "      <td>20/27</td>\n",
              "      <td>16/21</td>\n",
              "      <td>4</td>\n",
              "      <td>No</td>\n",
              "    </tr>\n",
              "    <tr>\n",
              "      <th>492</th>\n",
              "      <td>DODGE Charger</td>\n",
              "      <td>3.6</td>\n",
              "      <td>6.0</td>\n",
              "      <td>Auto-8</td>\n",
              "      <td>2WD</td>\n",
              "      <td>Ethanol/Gas</td>\n",
              "      <td>CA</td>\n",
              "      <td>large car</td>\n",
              "      <td>3</td>\n",
              "      <td>14/19</td>\n",
              "      <td>22/30</td>\n",
              "      <td>17/23</td>\n",
              "      <td>5</td>\n",
              "      <td>No</td>\n",
              "    </tr>\n",
              "    <tr>\n",
              "      <th>496</th>\n",
              "      <td>DODGE Charger</td>\n",
              "      <td>3.6</td>\n",
              "      <td>6.0</td>\n",
              "      <td>Auto-8</td>\n",
              "      <td>4WD</td>\n",
              "      <td>Ethanol/Gas</td>\n",
              "      <td>CA</td>\n",
              "      <td>large car</td>\n",
              "      <td>3</td>\n",
              "      <td>13/18</td>\n",
              "      <td>20/27</td>\n",
              "      <td>16/21</td>\n",
              "      <td>4</td>\n",
              "      <td>No</td>\n",
              "    </tr>\n",
              "    <tr>\n",
              "      <th>605</th>\n",
              "      <td>FORD Fusion Energi Plug-in Hybrid</td>\n",
              "      <td>2.0</td>\n",
              "      <td>4.0</td>\n",
              "      <td>CVT</td>\n",
              "      <td>2WD</td>\n",
              "      <td>Gasoline/Electricity</td>\n",
              "      <td>CA</td>\n",
              "      <td>midsize car</td>\n",
              "      <td>7</td>\n",
              "      <td>43/102</td>\n",
              "      <td>41/91</td>\n",
              "      <td>42/97</td>\n",
              "      <td>10</td>\n",
              "      <td>Elite</td>\n",
              "    </tr>\n",
              "    <tr>\n",
              "      <th>659</th>\n",
              "      <td>GMC Sierra 15</td>\n",
              "      <td>4.3</td>\n",
              "      <td>6.0</td>\n",
              "      <td>Auto-6</td>\n",
              "      <td>2WD</td>\n",
              "      <td>Ethanol/Gas</td>\n",
              "      <td>CA</td>\n",
              "      <td>pickup</td>\n",
              "      <td>5</td>\n",
              "      <td>12/18</td>\n",
              "      <td>16/24</td>\n",
              "      <td>14/20</td>\n",
              "      <td>4</td>\n",
              "      <td>No</td>\n",
              "    </tr>\n",
              "    <tr>\n",
              "      <th>661</th>\n",
              "      <td>GMC Sierra 15</td>\n",
              "      <td>4.3</td>\n",
              "      <td>6.0</td>\n",
              "      <td>Auto-6</td>\n",
              "      <td>4WD</td>\n",
              "      <td>Ethanol/Gas</td>\n",
              "      <td>CA</td>\n",
              "      <td>pickup</td>\n",
              "      <td>5</td>\n",
              "      <td>12/17</td>\n",
              "      <td>15/22</td>\n",
              "      <td>13/19</td>\n",
              "      <td>3</td>\n",
              "      <td>No</td>\n",
              "    </tr>\n",
              "    <tr>\n",
              "      <th>663</th>\n",
              "      <td>GMC Sierra 15</td>\n",
              "      <td>5.3</td>\n",
              "      <td>8.0</td>\n",
              "      <td>Auto-6</td>\n",
              "      <td>2WD</td>\n",
              "      <td>Ethanol/Gas</td>\n",
              "      <td>CA</td>\n",
              "      <td>pickup</td>\n",
              "      <td>3</td>\n",
              "      <td>12/16</td>\n",
              "      <td>17/23</td>\n",
              "      <td>14/19</td>\n",
              "      <td>3</td>\n",
              "      <td>No</td>\n",
              "    </tr>\n",
              "    <tr>\n",
              "      <th>697</th>\n",
              "      <td>GMC Yukon 1500</td>\n",
              "      <td>5.3</td>\n",
              "      <td>8.0</td>\n",
              "      <td>Auto-6</td>\n",
              "      <td>2WD</td>\n",
              "      <td>Ethanol/Gas</td>\n",
              "      <td>CA</td>\n",
              "      <td>standard SUV</td>\n",
              "      <td>3</td>\n",
              "      <td>12/16</td>\n",
              "      <td>17/23</td>\n",
              "      <td>14/19</td>\n",
              "      <td>3</td>\n",
              "      <td>No</td>\n",
              "    </tr>\n",
              "    <tr>\n",
              "      <th>701</th>\n",
              "      <td>GMC Yukon 1500</td>\n",
              "      <td>5.3</td>\n",
              "      <td>8.0</td>\n",
              "      <td>Auto-6</td>\n",
              "      <td>4WD</td>\n",
              "      <td>Ethanol/Gas</td>\n",
              "      <td>CA</td>\n",
              "      <td>standard SUV</td>\n",
              "      <td>3</td>\n",
              "      <td>11/16</td>\n",
              "      <td>16/22</td>\n",
              "      <td>13/18</td>\n",
              "      <td>3</td>\n",
              "      <td>No</td>\n",
              "    </tr>\n",
              "    <tr>\n",
              "      <th>709</th>\n",
              "      <td>GMC Yukon 1500 XL</td>\n",
              "      <td>5.3</td>\n",
              "      <td>8.0</td>\n",
              "      <td>Auto-6</td>\n",
              "      <td>2WD</td>\n",
              "      <td>Ethanol/Gas</td>\n",
              "      <td>CA</td>\n",
              "      <td>standard SUV</td>\n",
              "      <td>3</td>\n",
              "      <td>12/16</td>\n",
              "      <td>17/23</td>\n",
              "      <td>14/19</td>\n",
              "      <td>3</td>\n",
              "      <td>No</td>\n",
              "    </tr>\n",
              "    <tr>\n",
              "      <th>715</th>\n",
              "      <td>GMC Yukon XL 1500</td>\n",
              "      <td>5.3</td>\n",
              "      <td>8.0</td>\n",
              "      <td>Auto-6</td>\n",
              "      <td>4WD</td>\n",
              "      <td>Ethanol/Gas</td>\n",
              "      <td>CA</td>\n",
              "      <td>standard SUV</td>\n",
              "      <td>3</td>\n",
              "      <td>11/16</td>\n",
              "      <td>15/22</td>\n",
              "      <td>12/18</td>\n",
              "      <td>3</td>\n",
              "      <td>No</td>\n",
              "    </tr>\n",
              "    <tr>\n",
              "      <th>892</th>\n",
              "      <td>JEEP Cherokee</td>\n",
              "      <td>2.4</td>\n",
              "      <td>4.0</td>\n",
              "      <td>Auto-9</td>\n",
              "      <td>2WD</td>\n",
              "      <td>Ethanol/Gas</td>\n",
              "      <td>CA</td>\n",
              "      <td>small SUV</td>\n",
              "      <td>3</td>\n",
              "      <td>15/21</td>\n",
              "      <td>22/30</td>\n",
              "      <td>18/25</td>\n",
              "      <td>5</td>\n",
              "      <td>No</td>\n",
              "    </tr>\n",
              "    <tr>\n",
              "      <th>896</th>\n",
              "      <td>JEEP Cherokee</td>\n",
              "      <td>2.4</td>\n",
              "      <td>4.0</td>\n",
              "      <td>Auto-9</td>\n",
              "      <td>4WD</td>\n",
              "      <td>Ethanol/Gas</td>\n",
              "      <td>CA</td>\n",
              "      <td>small SUV</td>\n",
              "      <td>3</td>\n",
              "      <td>14/21</td>\n",
              "      <td>21/28</td>\n",
              "      <td>17/23</td>\n",
              "      <td>5</td>\n",
              "      <td>No</td>\n",
              "    </tr>\n",
              "    <tr>\n",
              "      <th>933</th>\n",
              "      <td>KARMA Revero</td>\n",
              "      <td>2.0</td>\n",
              "      <td>4.0</td>\n",
              "      <td>Auto-1</td>\n",
              "      <td>2WD</td>\n",
              "      <td>Gasoline/Electricity</td>\n",
              "      <td>CA</td>\n",
              "      <td>small car</td>\n",
              "      <td>1</td>\n",
              "      <td>20/59</td>\n",
              "      <td>21/61</td>\n",
              "      <td>20/60</td>\n",
              "      <td>10</td>\n",
              "      <td>No</td>\n",
              "    </tr>\n",
              "    <tr>\n",
              "      <th>1162</th>\n",
              "      <td>MERCEDES-BENZ CLA250 4Matic</td>\n",
              "      <td>2.0</td>\n",
              "      <td>4.0</td>\n",
              "      <td>AutoMan-7</td>\n",
              "      <td>4WD</td>\n",
              "      <td>Ethanol/Gas</td>\n",
              "      <td>CA</td>\n",
              "      <td>small car</td>\n",
              "      <td>5</td>\n",
              "      <td>17/24</td>\n",
              "      <td>24/32</td>\n",
              "      <td>20/27</td>\n",
              "      <td>6</td>\n",
              "      <td>No</td>\n",
              "    </tr>\n",
              "    <tr>\n",
              "      <th>1179</th>\n",
              "      <td>MERCEDES-BENZ GLA250 4Matic</td>\n",
              "      <td>2.0</td>\n",
              "      <td>4.0</td>\n",
              "      <td>AutoMan-7</td>\n",
              "      <td>4WD</td>\n",
              "      <td>Ethanol/Gas</td>\n",
              "      <td>CA</td>\n",
              "      <td>small SUV</td>\n",
              "      <td>5</td>\n",
              "      <td>17/23</td>\n",
              "      <td>23/31</td>\n",
              "      <td>19/26</td>\n",
              "      <td>5</td>\n",
              "      <td>No</td>\n",
              "    </tr>\n",
              "    <tr>\n",
              "      <th>1192</th>\n",
              "      <td>MERCEDES-BENZ GLE350 4Matic</td>\n",
              "      <td>3.5</td>\n",
              "      <td>6.0</td>\n",
              "      <td>Auto-7</td>\n",
              "      <td>4WD</td>\n",
              "      <td>Ethanol/Gas</td>\n",
              "      <td>CA</td>\n",
              "      <td>standard SUV</td>\n",
              "      <td>3</td>\n",
              "      <td>13/18</td>\n",
              "      <td>17/22</td>\n",
              "      <td>14/19</td>\n",
              "      <td>3</td>\n",
              "      <td>No</td>\n",
              "    </tr>\n",
              "    <tr>\n",
              "      <th>1256</th>\n",
              "      <td>MINI Cooper SE Countryman All4</td>\n",
              "      <td>1.5</td>\n",
              "      <td>3.0</td>\n",
              "      <td>SemiAuto-6</td>\n",
              "      <td>4WD</td>\n",
              "      <td>Gasoline/Electricity</td>\n",
              "      <td>CA</td>\n",
              "      <td>midsize car</td>\n",
              "      <td>3</td>\n",
              "      <td>28/63</td>\n",
              "      <td>27/66</td>\n",
              "      <td>27/65</td>\n",
              "      <td>9</td>\n",
              "      <td>Yes</td>\n",
              "    </tr>\n",
              "    <tr>\n",
              "      <th>1507</th>\n",
              "      <td>TOYOTA Sequoia FFV</td>\n",
              "      <td>5.7</td>\n",
              "      <td>8.0</td>\n",
              "      <td>SemiAuto-6</td>\n",
              "      <td>4WD</td>\n",
              "      <td>Ethanol/Gas</td>\n",
              "      <td>CA</td>\n",
              "      <td>standard SUV</td>\n",
              "      <td>5</td>\n",
              "      <td>9/13</td>\n",
              "      <td>13/17</td>\n",
              "      <td>10/14</td>\n",
              "      <td>1</td>\n",
              "      <td>No</td>\n",
              "    </tr>\n",
              "    <tr>\n",
              "      <th>1517</th>\n",
              "      <td>TOYOTA Tundra FFV</td>\n",
              "      <td>5.7</td>\n",
              "      <td>8.0</td>\n",
              "      <td>SemiAuto-6</td>\n",
              "      <td>4WD</td>\n",
              "      <td>Ethanol/Gas</td>\n",
              "      <td>CA</td>\n",
              "      <td>pickup</td>\n",
              "      <td>5</td>\n",
              "      <td>9/13</td>\n",
              "      <td>12/17</td>\n",
              "      <td>10/15</td>\n",
              "      <td>2</td>\n",
              "      <td>No</td>\n",
              "    </tr>\n",
              "    <tr>\n",
              "      <th>1577</th>\n",
              "      <td>VOLVO S90</td>\n",
              "      <td>2.0</td>\n",
              "      <td>4.0</td>\n",
              "      <td>SemiAuto-8</td>\n",
              "      <td>4WD</td>\n",
              "      <td>Gasoline/Electricity</td>\n",
              "      <td>CA</td>\n",
              "      <td>midsize car</td>\n",
              "      <td>7</td>\n",
              "      <td>26/70</td>\n",
              "      <td>33/72</td>\n",
              "      <td>29/71</td>\n",
              "      <td>10</td>\n",
              "      <td>Elite</td>\n",
              "    </tr>\n",
              "    <tr>\n",
              "      <th>1601</th>\n",
              "      <td>VOLVO XC 60</td>\n",
              "      <td>2.0</td>\n",
              "      <td>4.0</td>\n",
              "      <td>SemiAuto-8</td>\n",
              "      <td>4WD</td>\n",
              "      <td>Gasoline/Electricity</td>\n",
              "      <td>CA</td>\n",
              "      <td>small SUV</td>\n",
              "      <td>7</td>\n",
              "      <td>26/60</td>\n",
              "      <td>28/58</td>\n",
              "      <td>26/59</td>\n",
              "      <td>10</td>\n",
              "      <td>Elite</td>\n",
              "    </tr>\n",
              "    <tr>\n",
              "      <th>1609</th>\n",
              "      <td>VOLVO XC 90</td>\n",
              "      <td>2.0</td>\n",
              "      <td>4.0</td>\n",
              "      <td>SemiAuto-8</td>\n",
              "      <td>4WD</td>\n",
              "      <td>Gasoline/Electricity</td>\n",
              "      <td>CA</td>\n",
              "      <td>standard SUV</td>\n",
              "      <td>7</td>\n",
              "      <td>26/63</td>\n",
              "      <td>30/61</td>\n",
              "      <td>27/62</td>\n",
              "      <td>10</td>\n",
              "      <td>Elite</td>\n",
              "    </tr>\n",
              "  </tbody>\n",
              "</table>\n",
              "</div>\n",
              "      <button class=\"colab-df-convert\" onclick=\"convertToInteractive('df-3217cf1f-ba23-430a-b7e2-77e54b0277ae')\"\n",
              "              title=\"Convert this dataframe to an interactive table.\"\n",
              "              style=\"display:none;\">\n",
              "        \n",
              "  <svg xmlns=\"http://www.w3.org/2000/svg\" height=\"24px\"viewBox=\"0 0 24 24\"\n",
              "       width=\"24px\">\n",
              "    <path d=\"M0 0h24v24H0V0z\" fill=\"none\"/>\n",
              "    <path d=\"M18.56 5.44l.94 2.06.94-2.06 2.06-.94-2.06-.94-.94-2.06-.94 2.06-2.06.94zm-11 1L8.5 8.5l.94-2.06 2.06-.94-2.06-.94L8.5 2.5l-.94 2.06-2.06.94zm10 10l.94 2.06.94-2.06 2.06-.94-2.06-.94-.94-2.06-.94 2.06-2.06.94z\"/><path d=\"M17.41 7.96l-1.37-1.37c-.4-.4-.92-.59-1.43-.59-.52 0-1.04.2-1.43.59L10.3 9.45l-7.72 7.72c-.78.78-.78 2.05 0 2.83L4 21.41c.39.39.9.59 1.41.59.51 0 1.02-.2 1.41-.59l7.78-7.78 2.81-2.81c.8-.78.8-2.07 0-2.86zM5.41 20L4 18.59l7.72-7.72 1.47 1.35L5.41 20z\"/>\n",
              "  </svg>\n",
              "      </button>\n",
              "      \n",
              "  <style>\n",
              "    .colab-df-container {\n",
              "      display:flex;\n",
              "      flex-wrap:wrap;\n",
              "      gap: 12px;\n",
              "    }\n",
              "\n",
              "    .colab-df-convert {\n",
              "      background-color: #E8F0FE;\n",
              "      border: none;\n",
              "      border-radius: 50%;\n",
              "      cursor: pointer;\n",
              "      display: none;\n",
              "      fill: #1967D2;\n",
              "      height: 32px;\n",
              "      padding: 0 0 0 0;\n",
              "      width: 32px;\n",
              "    }\n",
              "\n",
              "    .colab-df-convert:hover {\n",
              "      background-color: #E2EBFA;\n",
              "      box-shadow: 0px 1px 2px rgba(60, 64, 67, 0.3), 0px 1px 3px 1px rgba(60, 64, 67, 0.15);\n",
              "      fill: #174EA6;\n",
              "    }\n",
              "\n",
              "    [theme=dark] .colab-df-convert {\n",
              "      background-color: #3B4455;\n",
              "      fill: #D2E3FC;\n",
              "    }\n",
              "\n",
              "    [theme=dark] .colab-df-convert:hover {\n",
              "      background-color: #434B5C;\n",
              "      box-shadow: 0px 1px 3px 1px rgba(0, 0, 0, 0.15);\n",
              "      filter: drop-shadow(0px 1px 2px rgba(0, 0, 0, 0.3));\n",
              "      fill: #FFFFFF;\n",
              "    }\n",
              "  </style>\n",
              "\n",
              "      <script>\n",
              "        const buttonEl =\n",
              "          document.querySelector('#df-3217cf1f-ba23-430a-b7e2-77e54b0277ae button.colab-df-convert');\n",
              "        buttonEl.style.display =\n",
              "          google.colab.kernel.accessAllowed ? 'block' : 'none';\n",
              "\n",
              "        async function convertToInteractive(key) {\n",
              "          const element = document.querySelector('#df-3217cf1f-ba23-430a-b7e2-77e54b0277ae');\n",
              "          const dataTable =\n",
              "            await google.colab.kernel.invokeFunction('convertToInteractive',\n",
              "                                                     [key], {});\n",
              "          if (!dataTable) return;\n",
              "\n",
              "          const docLinkHtml = 'Like what you see? Visit the ' +\n",
              "            '<a target=\"_blank\" href=https://colab.research.google.com/notebooks/data_table.ipynb>data table notebook</a>'\n",
              "            + ' to learn more about interactive tables.';\n",
              "          element.innerHTML = '';\n",
              "          dataTable['output_type'] = 'display_data';\n",
              "          await google.colab.output.renderOutput(dataTable, element);\n",
              "          const docLink = document.createElement('div');\n",
              "          docLink.innerHTML = docLinkHtml;\n",
              "          element.appendChild(docLink);\n",
              "        }\n",
              "      </script>\n",
              "    </div>\n",
              "  </div>\n",
              "  "
            ]
          },
          "metadata": {},
          "execution_count": 16
        }
      ]
    },
    {
      "cell_type": "code",
      "source": [
        "df08_1 = hb08.copy()\n",
        "df08_2 = hb08.copy()\n"
      ],
      "metadata": {
        "id": "PSMVM4Pm6ldf"
      },
      "execution_count": null,
      "outputs": []
    },
    {
      "cell_type": "code",
      "source": [
        "split_columns =  ['fuel', 'air_pollution_score', 'city_mpg', 'hwy_mpg', 'cmb_mpg', 'greenhouse_gas_score']\n",
        "for c in split_columns:\n",
        "  df08_1[c] = df08_1[c].apply(lambda x: x.split('/')[0])\n",
        "  df08_2[c] = df08_2[c].apply(lambda x: x.split('/')[1])"
      ],
      "metadata": {
        "id": "4LRmHPgg7gmC"
      },
      "execution_count": null,
      "outputs": []
    },
    {
      "cell_type": "code",
      "source": [
        "new_rows = df08_1.append(df08_2)"
      ],
      "metadata": {
        "id": "nZKTc4DH9nPv"
      },
      "execution_count": null,
      "outputs": []
    },
    {
      "cell_type": "code",
      "source": [
        "CA_08df.drop(hb08.index,inplace=True)"
      ],
      "metadata": {
        "id": "3W2Vmfio_-VK",
        "outputId": "364b010f-ac0c-45bb-916f-4ccd09d6de9a",
        "colab": {
          "base_uri": "https://localhost:8080/"
        }
      },
      "execution_count": null,
      "outputs": [
        {
          "output_type": "stream",
          "name": "stderr",
          "text": [
            "/usr/local/lib/python3.7/dist-packages/pandas/core/frame.py:4913: SettingWithCopyWarning: \n",
            "A value is trying to be set on a copy of a slice from a DataFrame\n",
            "\n",
            "See the caveats in the documentation: https://pandas.pydata.org/pandas-docs/stable/user_guide/indexing.html#returning-a-view-versus-a-copy\n",
            "  errors=errors,\n"
          ]
        }
      ]
    },
    {
      "cell_type": "code",
      "source": [
        "CA_08df.append(new_rows,ignore_index=True)"
      ],
      "metadata": {
        "id": "K3jp8ExDBbtu"
      },
      "execution_count": null,
      "outputs": []
    },
    {
      "cell_type": "code",
      "source": [
        "CA_08df[CA_08df.fuel.str.contains('/')]"
      ],
      "metadata": {
        "id": "QOyvKmnPB09s",
        "outputId": "a6cd2d8a-83a6-46df-fe7f-6db9f3cebe02",
        "colab": {
          "base_uri": "https://localhost:8080/",
          "height": 49
        }
      },
      "execution_count": null,
      "outputs": [
        {
          "output_type": "execute_result",
          "data": {
            "text/plain": [
              "Empty DataFrame\n",
              "Columns: [model, displ, cyl, trans, drive, fuel, cert_region, veh_class, air_pollution_score, city_mpg, hwy_mpg, cmb_mpg, greenhouse_gas_score, smartway]\n",
              "Index: []"
            ],
            "text/html": [
              "\n",
              "  <div id=\"df-fc3cbdd4-66ca-45d3-a209-787fcbe06862\">\n",
              "    <div class=\"colab-df-container\">\n",
              "      <div>\n",
              "<style scoped>\n",
              "    .dataframe tbody tr th:only-of-type {\n",
              "        vertical-align: middle;\n",
              "    }\n",
              "\n",
              "    .dataframe tbody tr th {\n",
              "        vertical-align: top;\n",
              "    }\n",
              "\n",
              "    .dataframe thead th {\n",
              "        text-align: right;\n",
              "    }\n",
              "</style>\n",
              "<table border=\"1\" class=\"dataframe\">\n",
              "  <thead>\n",
              "    <tr style=\"text-align: right;\">\n",
              "      <th></th>\n",
              "      <th>model</th>\n",
              "      <th>displ</th>\n",
              "      <th>cyl</th>\n",
              "      <th>trans</th>\n",
              "      <th>drive</th>\n",
              "      <th>fuel</th>\n",
              "      <th>cert_region</th>\n",
              "      <th>veh_class</th>\n",
              "      <th>air_pollution_score</th>\n",
              "      <th>city_mpg</th>\n",
              "      <th>hwy_mpg</th>\n",
              "      <th>cmb_mpg</th>\n",
              "      <th>greenhouse_gas_score</th>\n",
              "      <th>smartway</th>\n",
              "    </tr>\n",
              "  </thead>\n",
              "  <tbody>\n",
              "  </tbody>\n",
              "</table>\n",
              "</div>\n",
              "      <button class=\"colab-df-convert\" onclick=\"convertToInteractive('df-fc3cbdd4-66ca-45d3-a209-787fcbe06862')\"\n",
              "              title=\"Convert this dataframe to an interactive table.\"\n",
              "              style=\"display:none;\">\n",
              "        \n",
              "  <svg xmlns=\"http://www.w3.org/2000/svg\" height=\"24px\"viewBox=\"0 0 24 24\"\n",
              "       width=\"24px\">\n",
              "    <path d=\"M0 0h24v24H0V0z\" fill=\"none\"/>\n",
              "    <path d=\"M18.56 5.44l.94 2.06.94-2.06 2.06-.94-2.06-.94-.94-2.06-.94 2.06-2.06.94zm-11 1L8.5 8.5l.94-2.06 2.06-.94-2.06-.94L8.5 2.5l-.94 2.06-2.06.94zm10 10l.94 2.06.94-2.06 2.06-.94-2.06-.94-.94-2.06-.94 2.06-2.06.94z\"/><path d=\"M17.41 7.96l-1.37-1.37c-.4-.4-.92-.59-1.43-.59-.52 0-1.04.2-1.43.59L10.3 9.45l-7.72 7.72c-.78.78-.78 2.05 0 2.83L4 21.41c.39.39.9.59 1.41.59.51 0 1.02-.2 1.41-.59l7.78-7.78 2.81-2.81c.8-.78.8-2.07 0-2.86zM5.41 20L4 18.59l7.72-7.72 1.47 1.35L5.41 20z\"/>\n",
              "  </svg>\n",
              "      </button>\n",
              "      \n",
              "  <style>\n",
              "    .colab-df-container {\n",
              "      display:flex;\n",
              "      flex-wrap:wrap;\n",
              "      gap: 12px;\n",
              "    }\n",
              "\n",
              "    .colab-df-convert {\n",
              "      background-color: #E8F0FE;\n",
              "      border: none;\n",
              "      border-radius: 50%;\n",
              "      cursor: pointer;\n",
              "      display: none;\n",
              "      fill: #1967D2;\n",
              "      height: 32px;\n",
              "      padding: 0 0 0 0;\n",
              "      width: 32px;\n",
              "    }\n",
              "\n",
              "    .colab-df-convert:hover {\n",
              "      background-color: #E2EBFA;\n",
              "      box-shadow: 0px 1px 2px rgba(60, 64, 67, 0.3), 0px 1px 3px 1px rgba(60, 64, 67, 0.15);\n",
              "      fill: #174EA6;\n",
              "    }\n",
              "\n",
              "    [theme=dark] .colab-df-convert {\n",
              "      background-color: #3B4455;\n",
              "      fill: #D2E3FC;\n",
              "    }\n",
              "\n",
              "    [theme=dark] .colab-df-convert:hover {\n",
              "      background-color: #434B5C;\n",
              "      box-shadow: 0px 1px 3px 1px rgba(0, 0, 0, 0.15);\n",
              "      filter: drop-shadow(0px 1px 2px rgba(0, 0, 0, 0.3));\n",
              "      fill: #FFFFFF;\n",
              "    }\n",
              "  </style>\n",
              "\n",
              "      <script>\n",
              "        const buttonEl =\n",
              "          document.querySelector('#df-fc3cbdd4-66ca-45d3-a209-787fcbe06862 button.colab-df-convert');\n",
              "        buttonEl.style.display =\n",
              "          google.colab.kernel.accessAllowed ? 'block' : 'none';\n",
              "\n",
              "        async function convertToInteractive(key) {\n",
              "          const element = document.querySelector('#df-fc3cbdd4-66ca-45d3-a209-787fcbe06862');\n",
              "          const dataTable =\n",
              "            await google.colab.kernel.invokeFunction('convertToInteractive',\n",
              "                                                     [key], {});\n",
              "          if (!dataTable) return;\n",
              "\n",
              "          const docLinkHtml = 'Like what you see? Visit the ' +\n",
              "            '<a target=\"_blank\" href=https://colab.research.google.com/notebooks/data_table.ipynb>data table notebook</a>'\n",
              "            + ' to learn more about interactive tables.';\n",
              "          element.innerHTML = '';\n",
              "          dataTable['output_type'] = 'display_data';\n",
              "          await google.colab.output.renderOutput(dataTable, element);\n",
              "          const docLink = document.createElement('div');\n",
              "          docLink.innerHTML = docLinkHtml;\n",
              "          element.appendChild(docLink);\n",
              "        }\n",
              "      </script>\n",
              "    </div>\n",
              "  </div>\n",
              "  "
            ]
          },
          "metadata": {},
          "execution_count": 72
        }
      ]
    },
    {
      "cell_type": "markdown",
      "source": [
        "Repeating procedure for CA_18df"
      ],
      "metadata": {
        "id": "2_KdRA-ACwnC"
      }
    },
    {
      "cell_type": "code",
      "source": [
        "hb18 = CA_18df[CA_18df.fuel.str.contains('/')]\n",
        "hb18"
      ],
      "metadata": {
        "id": "3SoOvoLgC2ID"
      },
      "execution_count": null,
      "outputs": []
    },
    {
      "cell_type": "code",
      "source": [
        "hb_18_1 = hb18.copy()\n",
        "hb_18_2 = hb18.copy()"
      ],
      "metadata": {
        "id": "H_gJGGnhDFPm"
      },
      "execution_count": 38,
      "outputs": []
    },
    {
      "cell_type": "code",
      "source": [
        "split_columns =  ['fuel', 'city_mpg', 'hwy_mpg', 'cmb_mpg']\n",
        "for c in split_columns:\n",
        "  hb_18_1[c] = hb_18_1[c].apply(lambda x: x.split(sep='/')[0])\n",
        "  hb_18_2[c] = hb_18_2[c].apply(lambda x: x.split(sep='/')[1])\n"
      ],
      "metadata": {
        "id": "NSYQFvqMDehS"
      },
      "execution_count": 41,
      "outputs": []
    },
    {
      "cell_type": "code",
      "source": [
        "new_row = pd.concat([hb_18_1,hb_18_2])"
      ],
      "metadata": {
        "id": "KnenMqKDGttR"
      },
      "execution_count": 46,
      "outputs": []
    },
    {
      "cell_type": "code",
      "source": [
        "new_row.shape"
      ],
      "metadata": {
        "id": "AzUGQVRpEfvE",
        "outputId": "d66c66c8-7763-41b1-c27f-adf0a8e9378f",
        "colab": {
          "base_uri": "https://localhost:8080/"
        }
      },
      "execution_count": 49,
      "outputs": [
        {
          "output_type": "execute_result",
          "data": {
            "text/plain": [
              "(76, 14)"
            ]
          },
          "metadata": {},
          "execution_count": 49
        }
      ]
    },
    {
      "cell_type": "code",
      "source": [
        "CA_18df.drop(hb18.index,inplace=True)"
      ],
      "metadata": {
        "id": "_ykoqMhNEnZH",
        "colab": {
          "base_uri": "https://localhost:8080/"
        },
        "outputId": "7b8229b8-8340-4fbb-877c-8b1b6e3b3223"
      },
      "execution_count": 48,
      "outputs": [
        {
          "output_type": "stream",
          "name": "stderr",
          "text": [
            "/usr/local/lib/python3.7/dist-packages/pandas/core/frame.py:4913: SettingWithCopyWarning: \n",
            "A value is trying to be set on a copy of a slice from a DataFrame\n",
            "\n",
            "See the caveats in the documentation: https://pandas.pydata.org/pandas-docs/stable/user_guide/indexing.html#returning-a-view-versus-a-copy\n",
            "  errors=errors,\n"
          ]
        }
      ]
    },
    {
      "cell_type": "code",
      "source": [
        "CA_18df = pd.concat([CA_18df,new_row])"
      ],
      "metadata": {
        "id": "q-ZEjsHjy9xp"
      },
      "execution_count": 50,
      "outputs": []
    },
    {
      "cell_type": "code",
      "source": [
        "CA_18df[CA_18df.fuel.str.contains('/')]"
      ],
      "metadata": {
        "id": "Y27MjjgnNS2E"
      },
      "execution_count": null,
      "outputs": []
    },
    {
      "cell_type": "code",
      "source": [
        "#save the two dataframes to csv files\n",
        "CA_08df.to_csv('CA_08df.csv')\n",
        "CA_18df.to_csv('CA_18df.csv')"
      ],
      "metadata": {
        "id": "2FzXMTPgNcPN"
      },
      "execution_count": 54,
      "outputs": []
    },
    {
      "cell_type": "code",
      "source": [
        ""
      ],
      "metadata": {
        "id": "ZTDUZ3E-OEhk"
      },
      "execution_count": null,
      "outputs": []
    }
  ]
}